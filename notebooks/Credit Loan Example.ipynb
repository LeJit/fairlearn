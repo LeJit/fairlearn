{
 "cells": [
  {
   "cell_type": "markdown",
   "metadata": {},
   "source": [
    "# Binary Credit Loan Decisions with Unfairness Mitigation"
   ]
  },
  {
   "cell_type": "markdown",
   "metadata": {},
   "source": [
    "### Task Summary\n",
    "- Injecting Bias for education purpose\n",
    "- Historical Context of Credit (not Taiwan Specific)\n",
    "    - Are there general ethical considerations\n",
    "- Link reference to EY white paper (replicate workflow)\n",
    "    - Simulate workflow using synthetic dataset\n",
    "    - Be transparent about limitations of this approach"
   ]
  },
  {
   "cell_type": "markdown",
   "metadata": {},
   "source": [
    "## Concrete Harms"
   ]
  },
  {
   "cell_type": "markdown",
   "metadata": {},
   "source": [
    "#### Denial of Resources (Wealth)"
   ]
  },
  {
   "cell_type": "markdown",
   "metadata": {},
   "source": [
    "### Negative Credit Feedback Loops"
   ]
  },
  {
   "cell_type": "markdown",
   "metadata": {},
   "source": [
    "### Data Sheet"
   ]
  },
  {
   "cell_type": "code",
   "execution_count": null,
   "metadata": {},
   "outputs": [],
   "source": []
  },
  {
   "cell_type": "code",
   "execution_count": null,
   "metadata": {},
   "outputs": [],
   "source": []
  },
  {
   "cell_type": "markdown",
   "metadata": {},
   "source": [
    "## Unmitigated Classifier"
   ]
  },
  {
   "cell_type": "code",
   "execution_count": 1,
   "metadata": {},
   "outputs": [
    {
     "name": "stdout",
     "output_type": "stream",
     "text": [
      "Populating the interactive namespace from numpy and matplotlib\n"
     ]
    }
   ],
   "source": [
    "import numpy as np\n",
    "import pandas as pd\n",
    "import matplotlib.pyplot as plt\n",
    "%pylab inline"
   ]
  },
  {
   "cell_type": "code",
   "execution_count": 2,
   "metadata": {},
   "outputs": [],
   "source": [
    "import lightgbm as lgb\n",
    "from sklearn.calibration import CalibratedClassifierCV"
   ]
  },
  {
   "cell_type": "code",
   "execution_count": 3,
   "metadata": {},
   "outputs": [],
   "source": [
    "from sklearn.metrics import balanced_accuracy_score, roc_auc_score\n",
    "from sklearn.metrics import confusion_matrix"
   ]
  },
  {
   "cell_type": "code",
   "execution_count": 4,
   "metadata": {},
   "outputs": [],
   "source": [
    "from fairlearn.metrics import MetricFrame\n",
    "from fairlearn.metrics import (\n",
    "    selection_rate,\n",
    "    demographic_parity_difference,\n",
    "    demographic_parity_ratio,\n",
    "    equalized_odds_difference,\n",
    "    false_positive_rate,\n",
    "    false_negative_rate\n",
    ")"
   ]
  },
  {
   "cell_type": "code",
   "execution_count": 5,
   "metadata": {},
   "outputs": [],
   "source": [
    "from fairlearn.postprocessing import ThresholdOptimizer\n",
    "from fairlearn.reductions import GridSearch\n",
    "from fairlearn.reductions import ExponentiatedGradient"
   ]
  },
  {
   "cell_type": "markdown",
   "metadata": {},
   "source": [
    "## Load and Process Dataset"
   ]
  },
  {
   "cell_type": "code",
   "execution_count": 6,
   "metadata": {},
   "outputs": [],
   "source": [
    "from sklearn.datasets import fetch_openml\n",
    "from sklearn.model_selection import train_test_split\n",
    "import pandas as pd"
   ]
  },
  {
   "cell_type": "code",
   "execution_count": 7,
   "metadata": {},
   "outputs": [],
   "source": [
    "rand_seed = 1234"
   ]
  },
  {
   "cell_type": "code",
   "execution_count": 8,
   "metadata": {},
   "outputs": [],
   "source": [
    "data = fetch_openml(\n",
    "    data_id=42477,\n",
    "    cache=True,\n",
    "    as_frame=True,\n",
    "    return_X_y=False\n",
    ")"
   ]
  },
  {
   "cell_type": "code",
   "execution_count": 9,
   "metadata": {},
   "outputs": [],
   "source": [
    "data_url = \"http://archive.ics.uci.edu/ml/machine-learning-databases/00350/default%20of%20credit%20card%20clients.xls\"\n",
    "dataset = (pd.read_excel(io=data_url, header=1)\n",
    "            .drop(columns=[\"ID\"])\n",
    "            .rename(columns={\"PAY_0\": \"PAY_1\",\n",
    "                            \"default payment next month\": \"default\"})\n",
    "          )"
   ]
  },
  {
   "cell_type": "code",
   "execution_count": 10,
   "metadata": {},
   "outputs": [
    {
     "data": {
      "text/html": [
       "<div>\n",
       "<style scoped>\n",
       "    .dataframe tbody tr th:only-of-type {\n",
       "        vertical-align: middle;\n",
       "    }\n",
       "\n",
       "    .dataframe tbody tr th {\n",
       "        vertical-align: top;\n",
       "    }\n",
       "\n",
       "    .dataframe thead th {\n",
       "        text-align: right;\n",
       "    }\n",
       "</style>\n",
       "<table border=\"1\" class=\"dataframe\">\n",
       "  <thead>\n",
       "    <tr style=\"text-align: right;\">\n",
       "      <th></th>\n",
       "      <th>LIMIT_BAL</th>\n",
       "      <th>SEX</th>\n",
       "      <th>EDUCATION</th>\n",
       "      <th>MARRIAGE</th>\n",
       "      <th>AGE</th>\n",
       "      <th>PAY_1</th>\n",
       "      <th>PAY_2</th>\n",
       "      <th>PAY_3</th>\n",
       "      <th>PAY_4</th>\n",
       "      <th>PAY_5</th>\n",
       "      <th>...</th>\n",
       "      <th>BILL_AMT4</th>\n",
       "      <th>BILL_AMT5</th>\n",
       "      <th>BILL_AMT6</th>\n",
       "      <th>PAY_AMT1</th>\n",
       "      <th>PAY_AMT2</th>\n",
       "      <th>PAY_AMT3</th>\n",
       "      <th>PAY_AMT4</th>\n",
       "      <th>PAY_AMT5</th>\n",
       "      <th>PAY_AMT6</th>\n",
       "      <th>default</th>\n",
       "    </tr>\n",
       "  </thead>\n",
       "  <tbody>\n",
       "    <tr>\n",
       "      <th>0</th>\n",
       "      <td>20000</td>\n",
       "      <td>2</td>\n",
       "      <td>2</td>\n",
       "      <td>1</td>\n",
       "      <td>24</td>\n",
       "      <td>2</td>\n",
       "      <td>2</td>\n",
       "      <td>-1</td>\n",
       "      <td>-1</td>\n",
       "      <td>-2</td>\n",
       "      <td>...</td>\n",
       "      <td>0</td>\n",
       "      <td>0</td>\n",
       "      <td>0</td>\n",
       "      <td>0</td>\n",
       "      <td>689</td>\n",
       "      <td>0</td>\n",
       "      <td>0</td>\n",
       "      <td>0</td>\n",
       "      <td>0</td>\n",
       "      <td>1</td>\n",
       "    </tr>\n",
       "    <tr>\n",
       "      <th>1</th>\n",
       "      <td>120000</td>\n",
       "      <td>2</td>\n",
       "      <td>2</td>\n",
       "      <td>2</td>\n",
       "      <td>26</td>\n",
       "      <td>-1</td>\n",
       "      <td>2</td>\n",
       "      <td>0</td>\n",
       "      <td>0</td>\n",
       "      <td>0</td>\n",
       "      <td>...</td>\n",
       "      <td>3272</td>\n",
       "      <td>3455</td>\n",
       "      <td>3261</td>\n",
       "      <td>0</td>\n",
       "      <td>1000</td>\n",
       "      <td>1000</td>\n",
       "      <td>1000</td>\n",
       "      <td>0</td>\n",
       "      <td>2000</td>\n",
       "      <td>1</td>\n",
       "    </tr>\n",
       "    <tr>\n",
       "      <th>2</th>\n",
       "      <td>90000</td>\n",
       "      <td>2</td>\n",
       "      <td>2</td>\n",
       "      <td>2</td>\n",
       "      <td>34</td>\n",
       "      <td>0</td>\n",
       "      <td>0</td>\n",
       "      <td>0</td>\n",
       "      <td>0</td>\n",
       "      <td>0</td>\n",
       "      <td>...</td>\n",
       "      <td>14331</td>\n",
       "      <td>14948</td>\n",
       "      <td>15549</td>\n",
       "      <td>1518</td>\n",
       "      <td>1500</td>\n",
       "      <td>1000</td>\n",
       "      <td>1000</td>\n",
       "      <td>1000</td>\n",
       "      <td>5000</td>\n",
       "      <td>0</td>\n",
       "    </tr>\n",
       "    <tr>\n",
       "      <th>3</th>\n",
       "      <td>50000</td>\n",
       "      <td>2</td>\n",
       "      <td>2</td>\n",
       "      <td>1</td>\n",
       "      <td>37</td>\n",
       "      <td>0</td>\n",
       "      <td>0</td>\n",
       "      <td>0</td>\n",
       "      <td>0</td>\n",
       "      <td>0</td>\n",
       "      <td>...</td>\n",
       "      <td>28314</td>\n",
       "      <td>28959</td>\n",
       "      <td>29547</td>\n",
       "      <td>2000</td>\n",
       "      <td>2019</td>\n",
       "      <td>1200</td>\n",
       "      <td>1100</td>\n",
       "      <td>1069</td>\n",
       "      <td>1000</td>\n",
       "      <td>0</td>\n",
       "    </tr>\n",
       "    <tr>\n",
       "      <th>4</th>\n",
       "      <td>50000</td>\n",
       "      <td>1</td>\n",
       "      <td>2</td>\n",
       "      <td>1</td>\n",
       "      <td>57</td>\n",
       "      <td>-1</td>\n",
       "      <td>0</td>\n",
       "      <td>-1</td>\n",
       "      <td>0</td>\n",
       "      <td>0</td>\n",
       "      <td>...</td>\n",
       "      <td>20940</td>\n",
       "      <td>19146</td>\n",
       "      <td>19131</td>\n",
       "      <td>2000</td>\n",
       "      <td>36681</td>\n",
       "      <td>10000</td>\n",
       "      <td>9000</td>\n",
       "      <td>689</td>\n",
       "      <td>679</td>\n",
       "      <td>0</td>\n",
       "    </tr>\n",
       "  </tbody>\n",
       "</table>\n",
       "<p>5 rows × 24 columns</p>\n",
       "</div>"
      ],
      "text/plain": [
       "   LIMIT_BAL  SEX  EDUCATION  MARRIAGE  AGE  PAY_1  PAY_2  PAY_3  PAY_4  \\\n",
       "0      20000    2          2         1   24      2      2     -1     -1   \n",
       "1     120000    2          2         2   26     -1      2      0      0   \n",
       "2      90000    2          2         2   34      0      0      0      0   \n",
       "3      50000    2          2         1   37      0      0      0      0   \n",
       "4      50000    1          2         1   57     -1      0     -1      0   \n",
       "\n",
       "   PAY_5  ...  BILL_AMT4  BILL_AMT5  BILL_AMT6  PAY_AMT1  PAY_AMT2  PAY_AMT3  \\\n",
       "0     -2  ...          0          0          0         0       689         0   \n",
       "1      0  ...       3272       3455       3261         0      1000      1000   \n",
       "2      0  ...      14331      14948      15549      1518      1500      1000   \n",
       "3      0  ...      28314      28959      29547      2000      2019      1200   \n",
       "4      0  ...      20940      19146      19131      2000     36681     10000   \n",
       "\n",
       "   PAY_AMT4  PAY_AMT5  PAY_AMT6  default  \n",
       "0         0         0         0        1  \n",
       "1      1000         0      2000        1  \n",
       "2      1000      1000      5000        0  \n",
       "3      1100      1069      1000        0  \n",
       "4      9000       689       679        0  \n",
       "\n",
       "[5 rows x 24 columns]"
      ]
     },
     "execution_count": 10,
     "metadata": {},
     "output_type": "execute_result"
    }
   ],
   "source": [
    "dataset.head()"
   ]
  },
  {
   "cell_type": "markdown",
   "metadata": {},
   "source": [
    "## "
   ]
  },
  {
   "cell_type": "code",
   "execution_count": 11,
   "metadata": {},
   "outputs": [],
   "source": [
    "import matplotlib.pyplot as plt\n",
    "%matplotlib inline\n",
    "\n",
    "import seaborn as sns"
   ]
  },
  {
   "cell_type": "code",
   "execution_count": 12,
   "metadata": {},
   "outputs": [],
   "source": [
    "Y, A = dataset.loc[:, \"default\"], dataset.loc[:, \"SEX\"]\n",
    "X = dataset.drop(columns = [\"default\", \"SEX\"])"
   ]
  },
  {
   "cell_type": "code",
   "execution_count": 13,
   "metadata": {},
   "outputs": [],
   "source": [
    "A_str = A.map({1:\"male\", 2:\"female\"})"
   ]
  },
  {
   "cell_type": "markdown",
   "metadata": {},
   "source": [
    "### Add synthetic noise that is related to the outcome and sex"
   ]
  },
  {
   "cell_type": "markdown",
   "metadata": {},
   "source": [
    "For the purpose of this tutorial, we add a synthetic feature `Limit` that introduces"
   ]
  },
  {
   "cell_type": "code",
   "execution_count": 14,
   "metadata": {},
   "outputs": [],
   "source": [
    "# If default, Normal(2, 1) for male, Normal(2, 2) for female\n",
    "# If no default, Normal(0, 1) for male, Normal(0, 2) for female\n",
    "X.loc[:, \"Limit\"] = np.random.normal(loc=2*Y, scale=A)"
   ]
  },
  {
   "cell_type": "markdown",
   "metadata": {},
   "source": [
    "### Check if this will lead to disparity in naive model"
   ]
  },
  {
   "cell_type": "code",
   "execution_count": 15,
   "metadata": {},
   "outputs": [
    {
     "data": {
      "text/plain": [
       "<matplotlib.legend.Legend at 0x26e393c0b50>"
      ]
     },
     "execution_count": 15,
     "metadata": {},
     "output_type": "execute_result"
    },
    {
     "data": {
      "image/png": "[encoded data removed]",
      "text/plain": [
       "<Figure size 720x288 with 2 Axes>"
      ]
     },
     "metadata": {
      "needs_background": "light"
     },
     "output_type": "display_data"
    }
   ],
   "source": [
    "fig, (ax_1, ax_2) = plt.subplots(ncols=2, figsize=(10,4), sharey=True)\n",
    "X[\"Limit\"][(A==1) & (Y==0)].plot(kind=\"kde\", label=\"Payment on Time\", ax=ax_1, title=\"LIMIT for Men\")\n",
    "X[\"Limit\"][(A==1) & (Y==1)].plot(kind=\"kde\", label=\"Payment Default\", ax=ax_1)\n",
    "X[\"Limit\"][(A==2) & (Y==0)].plot(kind=\"kde\", label=\"Payment on Time\", ax=ax_2, legend=True, title=\"LIMIT for Women\")\n",
    "X[\"Limit\"][(A==2) & (Y==1)].plot(kind=\"kde\", label=\"Payment Default\", ax=ax_2, legend=True).legend(bbox_to_anchor=(1.6,1))"
   ]
  },
  {
   "cell_type": "code",
   "execution_count": 16,
   "metadata": {},
   "outputs": [],
   "source": [
    "X_train, X_test, y_train, y_test, A_train, A_test = train_test_split(\n",
    "    X,\n",
    "    Y,\n",
    "    A_str,\n",
    "    test_size=0.25,\n",
    "    stratify=Y\n",
    ")"
   ]
  },
  {
   "cell_type": "markdown",
   "metadata": {},
   "source": [
    "# Training a Model"
   ]
  },
  {
   "cell_type": "code",
   "execution_count": 17,
   "metadata": {},
   "outputs": [],
   "source": [
    "lgb_params = {\n",
    "    'objective': 'binary', \n",
    "    'metric': 'auc',\n",
    "    'learning_rate': 0.03,\n",
    "    \"num_leaves\": 10,\n",
    "    \"max_depth\": 3\n",
    "}"
   ]
  },
  {
   "cell_type": "code",
   "execution_count": 18,
   "metadata": {},
   "outputs": [],
   "source": [
    "estimator = lgb.LGBMClassifier(\n",
    "    **lgb_params\n",
    ")"
   ]
  },
  {
   "cell_type": "code",
   "execution_count": 19,
   "metadata": {},
   "outputs": [
    {
     "data": {
      "text/plain": [
       "LGBMClassifier(learning_rate=0.03, max_depth=3, metric='auc', num_leaves=10,\n",
       "               objective='binary')"
      ]
     },
     "execution_count": 19,
     "metadata": {},
     "output_type": "execute_result"
    }
   ],
   "source": [
    "estimator.fit(X_train, y_train)"
   ]
  },
  {
   "cell_type": "code",
   "execution_count": 20,
   "metadata": {},
   "outputs": [],
   "source": [
    "Y_pred_proba = estimator.predict_proba(X_test)[:, 1]\n",
    "Y_pred = (Y_pred_proba >= np.mean(y_train)) * 1"
   ]
  },
  {
   "cell_type": "code",
   "execution_count": 21,
   "metadata": {},
   "outputs": [
    {
     "data": {
      "text/plain": [
       "0.874849061718832"
      ]
     },
     "execution_count": 21,
     "metadata": {},
     "output_type": "execute_result"
    }
   ],
   "source": [
    "roc_auc_score(y_test, Y_pred_proba)"
   ]
  },
  {
   "cell_type": "code",
   "execution_count": 22,
   "metadata": {},
   "outputs": [],
   "source": [
    "fairness_metrics = {\n",
    "    \"balanced_accuracy\": balanced_accuracy_score,\n",
    "    \"selection_rate\": selection_rate,\n",
    "    \"false_positive_rate\": false_positive_rate,\n",
    "    \"false_negative_rate\": false_negative_rate\n",
    "}"
   ]
  },
  {
   "cell_type": "code",
   "execution_count": 23,
   "metadata": {},
   "outputs": [],
   "source": [
    "parity_metrics = {\n",
    "    \"demographic_parity\": demographic_parity_difference,\n",
    "    \"equalized_odds\": equalized_odds_difference\n",
    "}"
   ]
  },
  {
   "cell_type": "markdown",
   "metadata": {},
   "source": [
    "### Feature Importance of the Unmitigated Classifier (Using SHAP)"
   ]
  },
  {
   "cell_type": "code",
   "execution_count": 24,
   "metadata": {},
   "outputs": [
    {
     "data": {
      "text/plain": [
       "<AxesSubplot:title={'center':'Feature Importance'}, xlabel='Feature importance', ylabel='Features'>"
      ]
     },
     "execution_count": 24,
     "metadata": {},
     "output_type": "execute_result"
    },
    {
     "data": {
      "image/png": "[encoded data removed]",
      "text/plain": [
       "<Figure size 432x288 with 1 Axes>"
      ]
     },
     "metadata": {
      "needs_background": "light"
     },
     "output_type": "display_data"
    }
   ],
   "source": [
    "lgb.plot_importance(estimator, height=0.6, title=\"Feature Importance\", importance_type=\"gain\", max_num_features=15)"
   ]
  },
  {
   "cell_type": "markdown",
   "metadata": {},
   "source": [
    "### Fairness Assessment of Unmitigated Model"
   ]
  },
  {
   "cell_type": "code",
   "execution_count": 25,
   "metadata": {},
   "outputs": [],
   "source": [
    "def compute_error_metric(metric_value, sample_size):\n",
    "    metric_value = metric_value/sample_size\n",
    "    return 1.96*np.sqrt(metric_value*(1.0-metric_value))/np.sqrt(sample_size)"
   ]
  },
  {
   "cell_type": "code",
   "execution_count": 26,
   "metadata": {},
   "outputs": [],
   "source": [
    "def error_metrics(y_test, y_pred, A_test):\n",
    "    tp, tn, fp, fn = confusion_matrix(y_test, y_pred).ravel()\n",
    "    error_bars = {\n",
    "        \"false_positive_error\": compute_error_metric(fp, tn + fp),\n",
    "        \"false_negative_error\": compute_error_metric(fn, tp + fn),\n",
    "    }\n",
    "    return error_bars"
   ]
  },
  {
   "cell_type": "code",
   "execution_count": 27,
   "metadata": {},
   "outputs": [],
   "source": [
    "def create_difference_dataframe(metricframe, fairness_metrics, y_test, y_pred, A_test):\n",
    "    differences = metricframe.difference()\n",
    "    for (metric_name, metric_func) in fairness_metrics.items():\n",
    "        differences[metric_name] = metric_func(y_test, y_pred, sensitive_features=A_test)\n",
    "    return differences"
   ]
  },
  {
   "cell_type": "code",
   "execution_count": 28,
   "metadata": {},
   "outputs": [],
   "source": [
    "metricframe_unmitigated = MetricFrame(\n",
    "    fairness_metrics,\n",
    "    y_test,\n",
    "    Y_pred,\n",
    "    sensitive_features=A_test\n",
    ")"
   ]
  },
  {
   "cell_type": "code",
   "execution_count": 29,
   "metadata": {},
   "outputs": [
    {
     "data": {
      "text/plain": [
       "balanced_accuracy      0.119149\n",
       "selection_rate         0.052103\n",
       "false_positive_rate    0.129338\n",
       "false_negative_rate    0.108959\n",
       "dtype: float64"
      ]
     },
     "execution_count": 29,
     "metadata": {},
     "output_type": "execute_result"
    }
   ],
   "source": [
    "metricframe_unmitigated.difference()"
   ]
  },
  {
   "cell_type": "code",
   "execution_count": 30,
   "metadata": {},
   "outputs": [
    {
     "data": {
      "text/plain": [
       "balanced_accuracy      0.796622\n",
       "selection_rate         0.339067\n",
       "false_positive_rate    0.207841\n",
       "false_negative_rate    0.198915\n",
       "dtype: object"
      ]
     },
     "execution_count": 30,
     "metadata": {},
     "output_type": "execute_result"
    }
   ],
   "source": [
    "metricframe_unmitigated.overall"
   ]
  },
  {
   "cell_type": "code",
   "execution_count": 31,
   "metadata": {},
   "outputs": [
    {
     "data": {
      "text/plain": [
       "array([[<AxesSubplot:title={'center':'balanced_accuracy'}, xlabel='SEX'>,\n",
       "        <AxesSubplot:title={'center':'selection_rate'}, xlabel='SEX'>],\n",
       "       [<AxesSubplot:title={'center':'false_positive_rate'}, xlabel='SEX'>,\n",
       "        <AxesSubplot:title={'center':'false_negative_rate'}, xlabel='SEX'>]],\n",
       "      dtype=object)"
      ]
     },
     "execution_count": 31,
     "metadata": {},
     "output_type": "execute_result"
    },
    {
     "data": {
      "image/png": "[encoded data removed]",
      "text/plain": [
       "<Figure size 864x1296 with 4 Axes>"
      ]
     },
     "metadata": {
      "needs_background": "light"
     },
     "output_type": "display_data"
    }
   ],
   "source": [
    "metricframe_unmitigated.by_group.plot.bar(subplots=True, layout=[2, 2], figsize=[12,18])"
   ]
  },
  {
   "cell_type": "code",
   "execution_count": 32,
   "metadata": {},
   "outputs": [],
   "source": [
    "unmitigated_differences = create_difference_dataframe(metricframe_unmitigated, parity_metrics, y_test, Y_pred, A_test)"
   ]
  },
  {
   "cell_type": "code",
   "execution_count": 33,
   "metadata": {},
   "outputs": [
    {
     "data": {
      "text/plain": [
       "balanced_accuracy      0.119149\n",
       "selection_rate         0.052103\n",
       "false_positive_rate    0.129338\n",
       "false_negative_rate    0.108959\n",
       "demographic_parity     0.052103\n",
       "equalized_odds         0.129338\n",
       "dtype: float64"
      ]
     },
     "execution_count": 33,
     "metadata": {},
     "output_type": "execute_result"
    }
   ],
   "source": [
    "unmitigated_differences"
   ]
  },
  {
   "cell_type": "code",
   "execution_count": 34,
   "metadata": {},
   "outputs": [],
   "source": [
    "balanced_accuracy_unmitigated = balanced_accuracy_score(y_test, Y_pred)\n",
    "equalized_odds_unmitigated = equalized_odds_difference(y_test, Y_pred, sensitive_features=A_test)"
   ]
  },
  {
   "cell_type": "markdown",
   "metadata": {},
   "source": [
    "# Mitigating Unfairness using Post-Processing Techniques"
   ]
  },
  {
   "cell_type": "code",
   "execution_count": 35,
   "metadata": {},
   "outputs": [],
   "source": [
    "postprocess_est = ThresholdOptimizer(\n",
    "    estimator=estimator,\n",
    "    constraints=\"equalized_odds\",\n",
    ")"
   ]
  },
  {
   "cell_type": "code",
   "execution_count": 36,
   "metadata": {},
   "outputs": [],
   "source": [
    "balanced_idx1 = X_train[y_train==1].index\n",
    "pp_train_idx = balanced_idx1.union(y_train[y_train==0].sample(n=balanced_idx1.size, random_state=1234).index)"
   ]
  },
  {
   "cell_type": "code",
   "execution_count": 37,
   "metadata": {},
   "outputs": [],
   "source": [
    "positive_ids = y_train[y_train == 1].index\n",
    "negative_ids = y_train[y_train == 0].sample(n=positive_ids.size, random_state=rand_seed).index\n",
    "balanced_ids = positive_ids.union(negative_ids)"
   ]
  },
  {
   "cell_type": "markdown",
   "metadata": {},
   "source": [
    "### Re-balance the training dataset"
   ]
  },
  {
   "cell_type": "code",
   "execution_count": 38,
   "metadata": {},
   "outputs": [],
   "source": [
    "X_train_balanced = X_train.loc[pp_train_idx,:]\n",
    "y_train_balanced = y_train.loc[pp_train_idx]\n",
    "A_train_balanced = A_train.loc[pp_train_idx]"
   ]
  },
  {
   "cell_type": "code",
   "execution_count": 39,
   "metadata": {},
   "outputs": [
    {
     "data": {
      "text/plain": [
       "ThresholdOptimizer(constraints='equalized_odds',\n",
       "                   estimator=LGBMClassifier(learning_rate=0.03, max_depth=3,\n",
       "                                            metric='auc', num_leaves=10,\n",
       "                                            objective='binary'))"
      ]
     },
     "execution_count": 39,
     "metadata": {},
     "output_type": "execute_result"
    }
   ],
   "source": [
    "postprocess_est.fit(\n",
    "    X=X_train_balanced,\n",
    "    y=y_train_balanced,\n",
    "    sensitive_features=A_train_balanced\n",
    ")"
   ]
  },
  {
   "cell_type": "code",
   "execution_count": 40,
   "metadata": {},
   "outputs": [],
   "source": [
    "postprocess_pred = postprocess_est.predict(\n",
    "    X_test,\n",
    "    sensitive_features=A_test\n",
    ")"
   ]
  },
  {
   "cell_type": "code",
   "execution_count": 41,
   "metadata": {},
   "outputs": [],
   "source": [
    "postprocess_pred_proba = postprocess_est._pmf_predict(\n",
    "    X_test,\n",
    "    sensitive_features=A_test\n",
    ")"
   ]
  },
  {
   "cell_type": "markdown",
   "metadata": {},
   "source": [
    "### Fairness Assessment of post-processing model"
   ]
  },
  {
   "cell_type": "code",
   "execution_count": 42,
   "metadata": {},
   "outputs": [],
   "source": [
    "mf_postprocess = MetricFrame(\n",
    "    fairness_metrics,\n",
    "    y_test,\n",
    "    postprocess_pred,\n",
    "    sensitive_features=A_test\n",
    ")"
   ]
  },
  {
   "cell_type": "code",
   "execution_count": 43,
   "metadata": {},
   "outputs": [
    {
     "data": {
      "text/plain": [
       "balanced_accuracy      0.752063\n",
       "selection_rate         0.363867\n",
       "false_positive_rate    0.252354\n",
       "false_negative_rate     0.24352\n",
       "dtype: object"
      ]
     },
     "execution_count": 43,
     "metadata": {},
     "output_type": "execute_result"
    }
   ],
   "source": [
    "mf_postprocess.overall"
   ]
  },
  {
   "cell_type": "code",
   "execution_count": 44,
   "metadata": {},
   "outputs": [
    {
     "data": {
      "text/plain": [
       "balanced_accuracy      0.014467\n",
       "selection_rate         0.020447\n",
       "false_positive_rate    0.005439\n",
       "false_negative_rate    0.023496\n",
       "dtype: float64"
      ]
     },
     "execution_count": 44,
     "metadata": {},
     "output_type": "execute_result"
    }
   ],
   "source": [
    "mf_postprocess.difference()"
   ]
  },
  {
   "cell_type": "code",
   "execution_count": 45,
   "metadata": {},
   "outputs": [
    {
     "data": {
      "text/plain": [
       "array([[<AxesSubplot:title={'center':'balanced_accuracy'}, xlabel='SEX'>,\n",
       "        <AxesSubplot:title={'center':'selection_rate'}, xlabel='SEX'>],\n",
       "       [<AxesSubplot:title={'center':'false_positive_rate'}, xlabel='SEX'>,\n",
       "        <AxesSubplot:title={'center':'false_negative_rate'}, xlabel='SEX'>]],\n",
       "      dtype=object)"
      ]
     },
     "execution_count": 45,
     "metadata": {},
     "output_type": "execute_result"
    },
    {
     "data": {
      "image/png": "[encoded data removed]",
      "text/plain": [
       "<Figure size 864x1296 with 4 Axes>"
      ]
     },
     "metadata": {
      "needs_background": "light"
     },
     "output_type": "display_data"
    }
   ],
   "source": [
    "mf_postprocess.by_group.plot.bar(subplots=True, layout=[2, 2], figsize=[12,18])"
   ]
  },
  {
   "cell_type": "code",
   "execution_count": 46,
   "metadata": {},
   "outputs": [],
   "source": [
    "postprocess_differences = create_difference_dataframe(mf_postprocess, parity_metrics, y_test, postprocess_pred, A_test)"
   ]
  },
  {
   "cell_type": "code",
   "execution_count": 47,
   "metadata": {},
   "outputs": [
    {
     "data": {
      "text/plain": [
       "balanced_accuracy      0.014467\n",
       "selection_rate         0.020447\n",
       "false_positive_rate    0.005439\n",
       "false_negative_rate    0.023496\n",
       "demographic_parity     0.020447\n",
       "equalized_odds         0.023496\n",
       "dtype: float64"
      ]
     },
     "execution_count": 47,
     "metadata": {},
     "output_type": "execute_result"
    }
   ],
   "source": [
    "postprocess_differences"
   ]
  },
  {
   "cell_type": "code",
   "execution_count": null,
   "metadata": {},
   "outputs": [],
   "source": []
  },
  {
   "cell_type": "markdown",
   "metadata": {},
   "source": [
    "#### Add callout to unawareness issue"
   ]
  },
  {
   "cell_type": "markdown",
   "metadata": {},
   "source": [
    "### Feature Importance of Post-Processed Model"
   ]
  },
  {
   "cell_type": "code",
   "execution_count": null,
   "metadata": {},
   "outputs": [],
   "source": []
  },
  {
   "cell_type": "code",
   "execution_count": null,
   "metadata": {},
   "outputs": [],
   "source": []
  },
  {
   "cell_type": "code",
   "execution_count": null,
   "metadata": {},
   "outputs": [],
   "source": []
  },
  {
   "cell_type": "markdown",
   "metadata": {},
   "source": [
    "## Mitigating Unfairness using GridSearch"
   ]
  },
  {
   "cell_type": "markdown",
   "metadata": {},
   "source": [
    "#### Replace with Exponentiated Gradient\n",
    "- Try the Exponentiated Gradient with different Lambdas\n",
    "    - Are epsilons the lambdas?\n",
    "    - Want some amounts of trade-offs\n",
    "    - Returns a randomized classifier\n",
    "        - Re-run Grid Search with those lambdas"
   ]
  },
  {
   "cell_type": "code",
   "execution_count": 48,
   "metadata": {},
   "outputs": [],
   "source": [
    "def compute_model_performance(model, X_test, y_test, A_test, baseline):\n",
    "    model_pred_proba = model.predict_proba(X_test)[:,1]\n",
    "    model_pred = (model_pred_proba >= baseline)*1\n",
    "    roc = roc_auc_score(y_test, model_pred_proba)\n",
    "    equal_odds_diff = equalized_odds_difference(y_test, model_pred, sensitive_features=A_test)\n",
    "    return (roc, equal_odds_diff)"
   ]
  },
  {
   "cell_type": "code",
   "execution_count": 49,
   "metadata": {},
   "outputs": [],
   "source": [
    "from fairlearn.reductions import EqualizedOdds"
   ]
  },
  {
   "cell_type": "code",
   "execution_count": 50,
   "metadata": {},
   "outputs": [],
   "source": [
    "epsilons = [0.01, 0.02]"
   ]
  },
  {
   "cell_type": "code",
   "execution_count": 51,
   "metadata": {},
   "outputs": [],
   "source": [
    "def get_expgrad_models_per_epsilon(estimator, epsilon):\n",
    "    exp_grad_est = ExponentiatedGradient(\n",
    "        estimator=estimator,\n",
    "        constraints=EqualizedOdds(difference_bound=epsilon)\n",
    "    )\n",
    "    #Is this an issue - Re-runs\n",
    "    exp_grad_est.fit(X_train_balanced, y_train_balanced, sensitive_features=A_train_balanced)\n",
    "    predictors = exp_grad_est.predictors_\n",
    "    return predictors"
   ]
  },
  {
   "cell_type": "code",
   "execution_count": 52,
   "metadata": {},
   "outputs": [],
   "source": [
    "all_models = {}\n",
    "for eps in epsilons:\n",
    "    all_models[eps] = get_expgrad_models_per_epsilon(estimator=estimator, epsilon=eps)"
   ]
  },
  {
   "cell_type": "code",
   "execution_count": null,
   "metadata": {},
   "outputs": [],
   "source": []
  },
  {
   "cell_type": "code",
   "execution_count": 53,
   "metadata": {},
   "outputs": [],
   "source": [
    "# Loop through different bounds, take all 80 classifiers\n",
    "# Raster plot with 100 points, focus on seeing the trade-offs\n",
    "# Check for most interesting; given random seed"
   ]
  },
  {
   "cell_type": "markdown",
   "metadata": {},
   "source": [
    "# Select best model"
   ]
  },
  {
   "cell_type": "code",
   "execution_count": 54,
   "metadata": {},
   "outputs": [],
   "source": [
    "def aggregate_predictor_performances(predictors, metric, X_test, Y_test, A_test=None):\n",
    "    all_predictions = [predictor.predict(X_test) for predictor in predictors]\n",
    "    if A_test is not None:\n",
    "        return [metric(Y_test, Y_sweep, sensitive_features=A_test) for Y_sweep in all_predictions]\n",
    "    else:\n",
    "        return [metric(Y_test, Y_sweep) for Y_sweep in all_predictions]"
   ]
  },
  {
   "cell_type": "code",
   "execution_count": 55,
   "metadata": {},
   "outputs": [],
   "source": [
    "def model_performance_sweep(models_dict, X_test, y_test, A_test):\n",
    "    performances = []\n",
    "    for (eps, models) in models_dict.items():\n",
    "        eq_odds_difference = aggregate_predictor_performances(models, equalized_odds_difference, X_test, y_test, A_test)\n",
    "        bal_acc_score = aggregate_predictor_performances(models, balanced_accuracy_score, X_test, y_test)\n",
    "        for (i, score) in enumerate(eq_odds_difference):\n",
    "            performances.append((\n",
    "                eps,\n",
    "                i,\n",
    "                score,\n",
    "                bal_acc_score[i]\n",
    "            ))\n",
    "    performances_df = pd.DataFrame.from_records(performances,\n",
    "                                               columns=[\"epsilon\", \"index\", \"equalized_odds\", \"balanced_accuracy\"])    \n",
    "    return performances_df"
   ]
  },
  {
   "cell_type": "code",
   "execution_count": 56,
   "metadata": {},
   "outputs": [],
   "source": [
    "performance_df = model_performance_sweep(all_models, X_test, y_test, A_test)"
   ]
  },
  {
   "cell_type": "code",
   "execution_count": 57,
   "metadata": {},
   "outputs": [
    {
     "data": {
      "text/html": [
       "<div>\n",
       "<style scoped>\n",
       "    .dataframe tbody tr th:only-of-type {\n",
       "        vertical-align: middle;\n",
       "    }\n",
       "\n",
       "    .dataframe tbody tr th {\n",
       "        vertical-align: top;\n",
       "    }\n",
       "\n",
       "    .dataframe thead th {\n",
       "        text-align: right;\n",
       "    }\n",
       "</style>\n",
       "<table border=\"1\" class=\"dataframe\">\n",
       "  <thead>\n",
       "    <tr style=\"text-align: right;\">\n",
       "      <th></th>\n",
       "      <th>epsilon</th>\n",
       "      <th>index</th>\n",
       "      <th>equalized_odds</th>\n",
       "      <th>balanced_accuracy</th>\n",
       "    </tr>\n",
       "  </thead>\n",
       "  <tbody>\n",
       "    <tr>\n",
       "      <th>0</th>\n",
       "      <td>0.01</td>\n",
       "      <td>0</td>\n",
       "      <td>0.128087</td>\n",
       "      <td>0.793385</td>\n",
       "    </tr>\n",
       "    <tr>\n",
       "      <th>1</th>\n",
       "      <td>0.01</td>\n",
       "      <td>1</td>\n",
       "      <td>0.128469</td>\n",
       "      <td>0.793344</td>\n",
       "    </tr>\n",
       "    <tr>\n",
       "      <th>2</th>\n",
       "      <td>0.01</td>\n",
       "      <td>2</td>\n",
       "      <td>0.344125</td>\n",
       "      <td>0.349539</td>\n",
       "    </tr>\n",
       "    <tr>\n",
       "      <th>3</th>\n",
       "      <td>0.01</td>\n",
       "      <td>3</td>\n",
       "      <td>0.123037</td>\n",
       "      <td>0.795101</td>\n",
       "    </tr>\n",
       "    <tr>\n",
       "      <th>4</th>\n",
       "      <td>0.01</td>\n",
       "      <td>4</td>\n",
       "      <td>0.360134</td>\n",
       "      <td>0.347557</td>\n",
       "    </tr>\n",
       "    <tr>\n",
       "      <th>5</th>\n",
       "      <td>0.01</td>\n",
       "      <td>5</td>\n",
       "      <td>0.119400</td>\n",
       "      <td>0.795391</td>\n",
       "    </tr>\n",
       "    <tr>\n",
       "      <th>6</th>\n",
       "      <td>0.01</td>\n",
       "      <td>6</td>\n",
       "      <td>0.209453</td>\n",
       "      <td>0.522662</td>\n",
       "    </tr>\n",
       "    <tr>\n",
       "      <th>7</th>\n",
       "      <td>0.01</td>\n",
       "      <td>7</td>\n",
       "      <td>0.113491</td>\n",
       "      <td>0.795648</td>\n",
       "    </tr>\n",
       "    <tr>\n",
       "      <th>8</th>\n",
       "      <td>0.01</td>\n",
       "      <td>8</td>\n",
       "      <td>0.182015</td>\n",
       "      <td>0.684357</td>\n",
       "    </tr>\n",
       "    <tr>\n",
       "      <th>9</th>\n",
       "      <td>0.01</td>\n",
       "      <td>9</td>\n",
       "      <td>0.107638</td>\n",
       "      <td>0.795418</td>\n",
       "    </tr>\n",
       "    <tr>\n",
       "      <th>10</th>\n",
       "      <td>0.01</td>\n",
       "      <td>10</td>\n",
       "      <td>0.017234</td>\n",
       "      <td>0.733545</td>\n",
       "    </tr>\n",
       "    <tr>\n",
       "      <th>11</th>\n",
       "      <td>0.01</td>\n",
       "      <td>11</td>\n",
       "      <td>0.098502</td>\n",
       "      <td>0.793120</td>\n",
       "    </tr>\n",
       "    <tr>\n",
       "      <th>12</th>\n",
       "      <td>0.01</td>\n",
       "      <td>12</td>\n",
       "      <td>0.071149</td>\n",
       "      <td>0.757415</td>\n",
       "    </tr>\n",
       "    <tr>\n",
       "      <th>13</th>\n",
       "      <td>0.01</td>\n",
       "      <td>13</td>\n",
       "      <td>0.096736</td>\n",
       "      <td>0.791479</td>\n",
       "    </tr>\n",
       "    <tr>\n",
       "      <th>14</th>\n",
       "      <td>0.01</td>\n",
       "      <td>14</td>\n",
       "      <td>0.052009</td>\n",
       "      <td>0.750435</td>\n",
       "    </tr>\n",
       "    <tr>\n",
       "      <th>15</th>\n",
       "      <td>0.01</td>\n",
       "      <td>15</td>\n",
       "      <td>0.060171</td>\n",
       "      <td>0.762371</td>\n",
       "    </tr>\n",
       "    <tr>\n",
       "      <th>16</th>\n",
       "      <td>0.01</td>\n",
       "      <td>16</td>\n",
       "      <td>0.079199</td>\n",
       "      <td>0.787495</td>\n",
       "    </tr>\n",
       "    <tr>\n",
       "      <th>17</th>\n",
       "      <td>0.01</td>\n",
       "      <td>17</td>\n",
       "      <td>0.057995</td>\n",
       "      <td>0.761768</td>\n",
       "    </tr>\n",
       "    <tr>\n",
       "      <th>18</th>\n",
       "      <td>0.01</td>\n",
       "      <td>18</td>\n",
       "      <td>0.307409</td>\n",
       "      <td>0.397185</td>\n",
       "    </tr>\n",
       "    <tr>\n",
       "      <th>19</th>\n",
       "      <td>0.02</td>\n",
       "      <td>0</td>\n",
       "      <td>0.128087</td>\n",
       "      <td>0.793385</td>\n",
       "    </tr>\n",
       "    <tr>\n",
       "      <th>20</th>\n",
       "      <td>0.02</td>\n",
       "      <td>1</td>\n",
       "      <td>0.128469</td>\n",
       "      <td>0.793344</td>\n",
       "    </tr>\n",
       "    <tr>\n",
       "      <th>21</th>\n",
       "      <td>0.02</td>\n",
       "      <td>2</td>\n",
       "      <td>0.344125</td>\n",
       "      <td>0.349539</td>\n",
       "    </tr>\n",
       "    <tr>\n",
       "      <th>22</th>\n",
       "      <td>0.02</td>\n",
       "      <td>3</td>\n",
       "      <td>0.123037</td>\n",
       "      <td>0.795101</td>\n",
       "    </tr>\n",
       "    <tr>\n",
       "      <th>23</th>\n",
       "      <td>0.02</td>\n",
       "      <td>4</td>\n",
       "      <td>0.360134</td>\n",
       "      <td>0.347557</td>\n",
       "    </tr>\n",
       "    <tr>\n",
       "      <th>24</th>\n",
       "      <td>0.02</td>\n",
       "      <td>5</td>\n",
       "      <td>0.119400</td>\n",
       "      <td>0.795391</td>\n",
       "    </tr>\n",
       "    <tr>\n",
       "      <th>25</th>\n",
       "      <td>0.02</td>\n",
       "      <td>6</td>\n",
       "      <td>0.209453</td>\n",
       "      <td>0.522662</td>\n",
       "    </tr>\n",
       "    <tr>\n",
       "      <th>26</th>\n",
       "      <td>0.02</td>\n",
       "      <td>7</td>\n",
       "      <td>0.113491</td>\n",
       "      <td>0.795648</td>\n",
       "    </tr>\n",
       "    <tr>\n",
       "      <th>27</th>\n",
       "      <td>0.02</td>\n",
       "      <td>8</td>\n",
       "      <td>0.182015</td>\n",
       "      <td>0.684357</td>\n",
       "    </tr>\n",
       "    <tr>\n",
       "      <th>28</th>\n",
       "      <td>0.02</td>\n",
       "      <td>9</td>\n",
       "      <td>0.107638</td>\n",
       "      <td>0.795418</td>\n",
       "    </tr>\n",
       "    <tr>\n",
       "      <th>29</th>\n",
       "      <td>0.02</td>\n",
       "      <td>10</td>\n",
       "      <td>0.017234</td>\n",
       "      <td>0.733545</td>\n",
       "    </tr>\n",
       "    <tr>\n",
       "      <th>30</th>\n",
       "      <td>0.02</td>\n",
       "      <td>11</td>\n",
       "      <td>0.097882</td>\n",
       "      <td>0.793164</td>\n",
       "    </tr>\n",
       "    <tr>\n",
       "      <th>31</th>\n",
       "      <td>0.02</td>\n",
       "      <td>12</td>\n",
       "      <td>0.081924</td>\n",
       "      <td>0.759394</td>\n",
       "    </tr>\n",
       "    <tr>\n",
       "      <th>32</th>\n",
       "      <td>0.02</td>\n",
       "      <td>13</td>\n",
       "      <td>0.091686</td>\n",
       "      <td>0.790482</td>\n",
       "    </tr>\n",
       "    <tr>\n",
       "      <th>33</th>\n",
       "      <td>0.02</td>\n",
       "      <td>14</td>\n",
       "      <td>0.049937</td>\n",
       "      <td>0.754096</td>\n",
       "    </tr>\n",
       "    <tr>\n",
       "      <th>34</th>\n",
       "      <td>0.02</td>\n",
       "      <td>15</td>\n",
       "      <td>0.056544</td>\n",
       "      <td>0.760261</td>\n",
       "    </tr>\n",
       "    <tr>\n",
       "      <th>35</th>\n",
       "      <td>0.02</td>\n",
       "      <td>16</td>\n",
       "      <td>0.056926</td>\n",
       "      <td>0.768659</td>\n",
       "    </tr>\n",
       "    <tr>\n",
       "      <th>36</th>\n",
       "      <td>0.02</td>\n",
       "      <td>17</td>\n",
       "      <td>0.294709</td>\n",
       "      <td>0.407147</td>\n",
       "    </tr>\n",
       "  </tbody>\n",
       "</table>\n",
       "</div>"
      ],
      "text/plain": [
       "    epsilon  index  equalized_odds  balanced_accuracy\n",
       "0      0.01      0        0.128087           0.793385\n",
       "1      0.01      1        0.128469           0.793344\n",
       "2      0.01      2        0.344125           0.349539\n",
       "3      0.01      3        0.123037           0.795101\n",
       "4      0.01      4        0.360134           0.347557\n",
       "5      0.01      5        0.119400           0.795391\n",
       "6      0.01      6        0.209453           0.522662\n",
       "7      0.01      7        0.113491           0.795648\n",
       "8      0.01      8        0.182015           0.684357\n",
       "9      0.01      9        0.107638           0.795418\n",
       "10     0.01     10        0.017234           0.733545\n",
       "11     0.01     11        0.098502           0.793120\n",
       "12     0.01     12        0.071149           0.757415\n",
       "13     0.01     13        0.096736           0.791479\n",
       "14     0.01     14        0.052009           0.750435\n",
       "15     0.01     15        0.060171           0.762371\n",
       "16     0.01     16        0.079199           0.787495\n",
       "17     0.01     17        0.057995           0.761768\n",
       "18     0.01     18        0.307409           0.397185\n",
       "19     0.02      0        0.128087           0.793385\n",
       "20     0.02      1        0.128469           0.793344\n",
       "21     0.02      2        0.344125           0.349539\n",
       "22     0.02      3        0.123037           0.795101\n",
       "23     0.02      4        0.360134           0.347557\n",
       "24     0.02      5        0.119400           0.795391\n",
       "25     0.02      6        0.209453           0.522662\n",
       "26     0.02      7        0.113491           0.795648\n",
       "27     0.02      8        0.182015           0.684357\n",
       "28     0.02      9        0.107638           0.795418\n",
       "29     0.02     10        0.017234           0.733545\n",
       "30     0.02     11        0.097882           0.793164\n",
       "31     0.02     12        0.081924           0.759394\n",
       "32     0.02     13        0.091686           0.790482\n",
       "33     0.02     14        0.049937           0.754096\n",
       "34     0.02     15        0.056544           0.760261\n",
       "35     0.02     16        0.056926           0.768659\n",
       "36     0.02     17        0.294709           0.407147"
      ]
     },
     "execution_count": 57,
     "metadata": {},
     "output_type": "execute_result"
    }
   ],
   "source": [
    "performance_df"
   ]
  },
  {
   "cell_type": "markdown",
   "metadata": {},
   "source": [
    "### Performance Plots of ExponentiatedGradient Model"
   ]
  },
  {
   "cell_type": "code",
   "execution_count": 58,
   "metadata": {},
   "outputs": [],
   "source": [
    "exp_grad_est = ExponentiatedGradient(\n",
    "    estimator=estimator,\n",
    "    constraints=EqualizedOdds(difference_bound=0.02)\n",
    ")"
   ]
  },
  {
   "cell_type": "code",
   "execution_count": 59,
   "metadata": {},
   "outputs": [],
   "source": [
    "exp_grad_est.fit(X_train_balanced, y_train_balanced, sensitive_features=A_train_balanced)"
   ]
  },
  {
   "cell_type": "code",
   "execution_count": 60,
   "metadata": {},
   "outputs": [],
   "source": [
    "y_pred_inprocess = exp_grad_est.predict(X_test, random_state=rand_seed)"
   ]
  },
  {
   "cell_type": "code",
   "execution_count": 61,
   "metadata": {},
   "outputs": [],
   "source": [
    "mf_inprocess = MetricFrame(\n",
    "    fairness_metrics,\n",
    "    y_test,\n",
    "    y_pred_inprocess,\n",
    "    sensitive_features=A_test\n",
    ")"
   ]
  },
  {
   "cell_type": "code",
   "execution_count": 62,
   "metadata": {},
   "outputs": [
    {
     "data": {
      "text/plain": [
       "balanced_accuracy      0.066109\n",
       "selection_rate         0.003218\n",
       "false_positive_rate    0.054973\n",
       "false_negative_rate    0.077246\n",
       "dtype: float64"
      ]
     },
     "execution_count": 62,
     "metadata": {},
     "output_type": "execute_result"
    }
   ],
   "source": [
    "mf_inprocess.difference()"
   ]
  },
  {
   "cell_type": "code",
   "execution_count": 63,
   "metadata": {},
   "outputs": [
    {
     "data": {
      "text/plain": [
       "balanced_accuracy      0.781365\n",
       "selection_rate           0.3128\n",
       "false_positive_rate    0.188324\n",
       "false_negative_rate    0.248945\n",
       "dtype: object"
      ]
     },
     "execution_count": 63,
     "metadata": {},
     "output_type": "execute_result"
    }
   ],
   "source": [
    "mf_inprocess.overall"
   ]
  },
  {
   "cell_type": "code",
   "execution_count": 64,
   "metadata": {},
   "outputs": [
    {
     "data": {
      "text/plain": [
       "array([[<AxesSubplot:title={'center':'balanced_accuracy'}, xlabel='SEX'>,\n",
       "        <AxesSubplot:title={'center':'selection_rate'}, xlabel='SEX'>],\n",
       "       [<AxesSubplot:title={'center':'false_positive_rate'}, xlabel='SEX'>,\n",
       "        <AxesSubplot:title={'center':'false_negative_rate'}, xlabel='SEX'>]],\n",
       "      dtype=object)"
      ]
     },
     "execution_count": 64,
     "metadata": {},
     "output_type": "execute_result"
    },
    {
     "data": {
      "image/png": "[encoded data removed]",
      "text/plain": [
       "<Figure size 864x576 with 4 Axes>"
      ]
     },
     "metadata": {
      "needs_background": "light"
     },
     "output_type": "display_data"
    }
   ],
   "source": [
    "mf_inprocess.by_group.plot.bar(subplots=True, layout=[2, 2], figsize=[12, 8])"
   ]
  },
  {
   "cell_type": "code",
   "execution_count": 65,
   "metadata": {},
   "outputs": [],
   "source": [
    "inprocess_differences = create_difference_dataframe(mf_inprocess, parity_metrics, y_test, y_pred_inprocess, A_test)"
   ]
  },
  {
   "cell_type": "code",
   "execution_count": 66,
   "metadata": {},
   "outputs": [
    {
     "data": {
      "text/plain": [
       "balanced_accuracy      0.066109\n",
       "selection_rate         0.003218\n",
       "false_positive_rate    0.054973\n",
       "false_negative_rate    0.077246\n",
       "demographic_parity     0.003218\n",
       "equalized_odds         0.077246\n",
       "dtype: float64"
      ]
     },
     "execution_count": 66,
     "metadata": {},
     "output_type": "execute_result"
    }
   ],
   "source": [
    "inprocess_differences"
   ]
  },
  {
   "cell_type": "code",
   "execution_count": 67,
   "metadata": {},
   "outputs": [],
   "source": [
    "# Pass Lambda_vecs as Grid_offset to Grid_search\n",
    "# Do a couple of Exponentiated Gradient, and combine the predictors (Boosting?)\n",
    "# Just run Exp_Gradient with different trade-off points -> Each classifier staddles a variety of trade-offs -> Pick one of these 19 classifiers\n",
    "# Plot the GridSearch graph with these 19 classifiers"
   ]
  },
  {
   "cell_type": "markdown",
   "metadata": {},
   "source": [
    "### Feature Importance of ExponentiatedGradient Model"
   ]
  },
  {
   "cell_type": "code",
   "execution_count": 68,
   "metadata": {},
   "outputs": [
    {
     "data": {
      "text/plain": [
       "dict_keys([0.01, 0.02])"
      ]
     },
     "execution_count": 68,
     "metadata": {},
     "output_type": "execute_result"
    }
   ],
   "source": [
    "all_models.keys()"
   ]
  },
  {
   "cell_type": "code",
   "execution_count": 69,
   "metadata": {},
   "outputs": [],
   "source": [
    "model_performances = {}"
   ]
  },
  {
   "cell_type": "code",
   "execution_count": 70,
   "metadata": {},
   "outputs": [],
   "source": [
    "for (eps, models) in all_models.items():    \n",
    "    eq_odds_inprocess = aggregate_predictor_performances(models, equalized_odds_difference, X_test, y_test, A_test)\n",
    "    bal_accuracy_inprocess = aggregate_predictor_performances(models, balanced_accuracy_score, X_test, y_test)\n",
    "    model_performances[eps] = (eq_odds_inprocess, bal_accuracy_inprocess)"
   ]
  },
  {
   "cell_type": "code",
   "execution_count": 71,
   "metadata": {},
   "outputs": [
    {
     "data": {
      "image/png": "[encoded data removed]",
      "text/plain": [
       "<Figure size 432x288 with 1 Axes>"
      ]
     },
     "metadata": {
      "needs_background": "light"
     },
     "output_type": "display_data"
    }
   ],
   "source": [
    "for (eps, (eq, bal_acc)) in model_performances.items():\n",
    "    if eps != 0.05:\n",
    "        plt.scatter([1 - bas for bas in bal_acc], eq, label=f\"ExponentiatedGradient:epsilon={eps}\")\n",
    "plt.scatter(1.0 - balanced_accuracy_unmitigated, equalized_odds_unmitigated,label=f'UnmitigatedModel')\n",
    "#plt.scatter(1.0 - balanced_accuracy_postprocessing, equalized_odds_postprocessing,label=f\"ThresholdOptimizer\")\n",
    "plt.xlim([0.15, 0.3])\n",
    "plt.ylim([0, 0.15])\n",
    "plt.xlabel(\"Weighted Error Rate\")\n",
    "plt.ylabel(\"Equalized Odds Difference\")\n",
    "plt.legend(bbox_to_anchor=(1.75,1))\n",
    "plt.show()"
   ]
  },
  {
   "cell_type": "markdown",
   "metadata": {},
   "source": [
    "#### Report model performance error bars for metrics"
   ]
  },
  {
   "cell_type": "markdown",
   "metadata": {},
   "source": [
    "### Workflow for undominated models (IN PROGRESS)"
   ]
  },
  {
   "cell_type": "markdown",
   "metadata": {},
   "source": [
    "Send similar plot for 0.01, 0.02; Look at dominance plots"
   ]
  },
  {
   "cell_type": "code",
   "execution_count": null,
   "metadata": {},
   "outputs": [],
   "source": []
  },
  {
   "cell_type": "code",
   "execution_count": 72,
   "metadata": {},
   "outputs": [
    {
     "ename": "SyntaxError",
     "evalue": "unexpected EOF while parsing (<ipython-input-72-360504ed07d5>, line 6)",
     "output_type": "error",
     "traceback": [
      "\u001b[1;36m  File \u001b[1;32m\"<ipython-input-72-360504ed07d5>\"\u001b[1;36m, line \u001b[1;32m6\u001b[0m\n\u001b[1;33m    \u001b[0m\n\u001b[1;37m    ^\u001b[0m\n\u001b[1;31mSyntaxError\u001b[0m\u001b[1;31m:\u001b[0m unexpected EOF while parsing\n"
     ]
    }
   ],
   "source": [
    "def exclude_dominated_models(model_performances):\n",
    "    non_dominated = {}\n",
    "    for eps in model_performances.keys():\n",
    "        for (i, (eq_odds, bal_acc)) in enumrate(model_performances[eps]):\n",
    "            \n",
    "        "
   ]
  },
  {
   "cell_type": "code",
   "execution_count": null,
   "metadata": {},
   "outputs": [],
   "source": [
    "eq, bas = model_performances[0.02]\n",
    "bas = [1.0 - ba for ba in bas]"
   ]
  },
  {
   "cell_type": "code",
   "execution_count": null,
   "metadata": {},
   "outputs": [],
   "source": [
    "for i, ba in enumerate(bas):\n",
    "    if eq[i] < 0.05: \n",
    "        print(i, ba, eq[i])"
   ]
  },
  {
   "cell_type": "code",
   "execution_count": null,
   "metadata": {},
   "outputs": [],
   "source": []
  },
  {
   "cell_type": "markdown",
   "metadata": {},
   "source": [
    "### Discuss Performance and Trade-Offs"
   ]
  },
  {
   "cell_type": "code",
   "execution_count": null,
   "metadata": {},
   "outputs": [],
   "source": [
    "differences_dict = {\n",
    "    \"Unmitigated\": unmitigated_differences,\n",
    "    \"Postprocessing\": postprocess_differences,\n",
    "    \"ExponentiatedGrad\": inprocess_differences\n",
    "}"
   ]
  },
  {
   "cell_type": "code",
   "execution_count": null,
   "metadata": {},
   "outputs": [],
   "source": [
    "differences_df = pd.DataFrame.from_dict(differences_dict)"
   ]
  },
  {
   "cell_type": "code",
   "execution_count": null,
   "metadata": {},
   "outputs": [],
   "source": [
    "differences_df.plot.bar()"
   ]
  },
  {
   "cell_type": "code",
   "execution_count": null,
   "metadata": {},
   "outputs": [],
   "source": [
    "performance_dict = {\n",
    "    \"Unmitigated\": metricframe_unmitigated.overall,\n",
    "    \"Postprocessing\": mf_postprocess.overall,\n",
    "    \"ExponentiatedGrad\": mf_inprocess.overall\n",
    "}"
   ]
  },
  {
   "cell_type": "code",
   "execution_count": null,
   "metadata": {},
   "outputs": [],
   "source": [
    "overall_df = pd.DataFrame.from_dict(performance_dict)"
   ]
  },
  {
   "cell_type": "code",
   "execution_count": null,
   "metadata": {},
   "outputs": [],
   "source": [
    "overall_df.plot.bar()"
   ]
  },
  {
   "cell_type": "markdown",
   "metadata": {},
   "source": [
    "# Designing a Model Card (Stretch Goal)\n",
    "- Capture reasoning, and link to Model Card resource if don't have time"
   ]
  },
  {
   "cell_type": "code",
   "execution_count": null,
   "metadata": {},
   "outputs": [],
   "source": [
    "import model_card_toolkit"
   ]
  },
  {
   "cell_type": "code",
   "execution_count": null,
   "metadata": {},
   "outputs": [],
   "source": [
    "model_card_path = Path(os.getcwd())\n",
    "mct = model_card_toolkit.ModelCardToolkit(model_card_path)"
   ]
  },
  {
   "cell_type": "code",
   "execution_count": null,
   "metadata": {},
   "outputs": [],
   "source": [
    "model_card = mct.scaffold_assets()"
   ]
  },
  {
   "cell_type": "code",
   "execution_count": null,
   "metadata": {},
   "outputs": [],
   "source": [
    "model_card.model_details.name = \"Credit Loan Default Model\"\n",
    "model_card.model_details.overview = \"This model predicts whether an applicant will default on a credit loan\"\n",
    "model_card.model_details.users = [\"Financial Institutions\", \"Data Scientists\"]\n",
    "model_card.model_details.ethical_concerns = [\n",
    " {\n",
    "     \n",
    " }   \n",
    "]"
   ]
  },
  {
   "cell_type": "code",
   "execution_count": null,
   "metadata": {},
   "outputs": [],
   "source": []
  },
  {
   "cell_type": "code",
   "execution_count": null,
   "metadata": {},
   "outputs": [],
   "source": []
  },
  {
   "cell_type": "code",
   "execution_count": null,
   "metadata": {},
   "outputs": [],
   "source": []
  },
  {
   "cell_type": "code",
   "execution_count": null,
   "metadata": {},
   "outputs": [],
   "source": []
  },
  {
   "cell_type": "markdown",
   "metadata": {},
   "source": [
    "## Discussion"
   ]
  },
  {
   "cell_type": "markdown",
   "metadata": {},
   "source": [
    "### Fairness Under Unawareness"
   ]
  },
  {
   "cell_type": "markdown",
   "metadata": {},
   "source": [
    "When proving credit models are compliant with fair lending laws, practitoners often run into the issue "
   ]
  },
  {
   "cell_type": "markdown",
   "metadata": {},
   "source": [
    "### Fairness is not the same as anti-discrimination"
   ]
  },
  {
   "cell_type": "code",
   "execution_count": null,
   "metadata": {},
   "outputs": [],
   "source": []
  }
 ],
 "metadata": {
  "kernelspec": {
   "display_name": "Python 3",
   "language": "python",
   "name": "python3"
  },
  "language_info": {
   "codemirror_mode": {
    "name": "ipython",
    "version": 3
   },
   "file_extension": ".py",
   "mimetype": "text/x-python",
   "name": "python",
   "nbconvert_exporter": "python",
   "pygments_lexer": "ipython3",
   "version": "3.8.5"
  }
 },
 "nbformat": 4,
 "nbformat_minor": 4
}
