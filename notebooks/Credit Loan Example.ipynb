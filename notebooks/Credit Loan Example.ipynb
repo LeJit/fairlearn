{
 "cells": [
  {
   "cell_type": "markdown",
   "metadata": {},
   "source": [
    "# Binary Credit Loan Decisions with Unfairness Mitigation"
   ]
  },
  {
   "cell_type": "markdown",
   "metadata": {},
   "source": [
    "### Task Summary\n",
    "- Injecting Bias for education purpose\n",
    "- Historical Context of Credit (not Taiwan Specific)\n",
    "    - Are there general ethical considerations\n",
    "- Link reference to EY white paper (replicate workflow)\n",
    "    - Simulate workflow using synthetic dataset\n",
    "    - Be transparent about limitations of this approach"
   ]
  },
  {
   "cell_type": "markdown",
   "metadata": {},
   "source": [
    "## Concrete Harms"
   ]
  },
  {
   "cell_type": "markdown",
   "metadata": {},
   "source": [
    "#### Denial of Resources (Wealth)"
   ]
  },
  {
   "cell_type": "markdown",
   "metadata": {},
   "source": [
    "### Negative Credit Feedback Loops"
   ]
  },
  {
   "cell_type": "markdown",
   "metadata": {},
   "source": [
    "### Data Sheet"
   ]
  },
  {
   "cell_type": "code",
   "execution_count": null,
   "metadata": {},
   "outputs": [],
   "source": []
  },
  {
   "cell_type": "code",
   "execution_count": null,
   "metadata": {},
   "outputs": [],
   "source": []
  },
  {
   "cell_type": "markdown",
   "metadata": {},
   "source": [
    "## Unmitigated Classifier"
   ]
  },
  {
   "cell_type": "code",
   "execution_count": 1,
   "metadata": {},
   "outputs": [
    {
     "name": "stdout",
     "output_type": "stream",
     "text": [
      "Populating the interactive namespace from numpy and matplotlib\n"
     ]
    }
   ],
   "source": [
    "import numpy as np\n",
    "import pandas as pd\n",
    "import matplotlib.pyplot as plt\n",
    "%pylab inline"
   ]
  },
  {
   "cell_type": "code",
   "execution_count": 2,
   "metadata": {},
   "outputs": [],
   "source": [
    "import lightgbm as lgb\n",
    "from sklearn.calibration import CalibratedClassifierCV"
   ]
  },
  {
   "cell_type": "code",
   "execution_count": 94,
   "metadata": {},
   "outputs": [],
   "source": [
    "from sklearn.metrics import balanced_accuracy_score, roc_auc_score"
   ]
  },
  {
   "cell_type": "code",
   "execution_count": 3,
   "metadata": {},
   "outputs": [],
   "source": [
    "from fairlearn.metrics import MetricFrame\n",
    "from fairlearn.metrics import (\n",
    "    selection_rate,\n",
    "    demographic_parity_difference,\n",
    "    demographic_parity_ratio,\n",
    "    equalized_odds_difference\n",
    ")"
   ]
  },
  {
   "cell_type": "code",
   "execution_count": 4,
   "metadata": {},
   "outputs": [],
   "source": [
    "from fairlearn.postprocessing import ThresholdOptimizer\n",
    "from fairlearn.reductions import GridSearch\n",
    "from fairlearn.reductions import ExponentiatedGradient"
   ]
  },
  {
   "cell_type": "markdown",
   "metadata": {},
   "source": [
    "## Load and Process Dataset"
   ]
  },
  {
   "cell_type": "code",
   "execution_count": 21,
   "metadata": {},
   "outputs": [],
   "source": [
    "from sklearn.datasets import fetch_openml\n",
    "from sklearn.model_selection import train_test_split\n",
    "import pandas as pd"
   ]
  },
  {
   "cell_type": "code",
   "execution_count": 6,
   "metadata": {},
   "outputs": [],
   "source": [
    "rand_seed = 1234"
   ]
  },
  {
   "cell_type": "code",
   "execution_count": 7,
   "metadata": {},
   "outputs": [],
   "source": [
    "data = fetch_openml(\n",
    "    data_id=42477,\n",
    "    cache=True,\n",
    "    as_frame=True,\n",
    "    return_X_y=False\n",
    ")"
   ]
  },
  {
   "cell_type": "code",
   "execution_count": 14,
   "metadata": {},
   "outputs": [],
   "source": [
    "data_url = \"http://archive.ics.uci.edu/ml/machine-learning-databases/00350/default%20of%20credit%20card%20clients.xls\"\n",
    "dataset = (pd.read_excel(io=data_url, header=1)\n",
    "            .drop(columns=[\"ID\"])\n",
    "            .rename(columns={\"PAY_0\": \"PAY_1\",\n",
    "                            \"default payment next month\": \"default\"})\n",
    "#            .replace({\"SEX\": {1: \"male\", 2:\"female\"}})\n",
    "          )"
   ]
  },
  {
   "cell_type": "code",
   "execution_count": 15,
   "metadata": {},
   "outputs": [
    {
     "data": {
      "text/html": [
       "<div>\n",
       "<style scoped>\n",
       "    .dataframe tbody tr th:only-of-type {\n",
       "        vertical-align: middle;\n",
       "    }\n",
       "\n",
       "    .dataframe tbody tr th {\n",
       "        vertical-align: top;\n",
       "    }\n",
       "\n",
       "    .dataframe thead th {\n",
       "        text-align: right;\n",
       "    }\n",
       "</style>\n",
       "<table border=\"1\" class=\"dataframe\">\n",
       "  <thead>\n",
       "    <tr style=\"text-align: right;\">\n",
       "      <th></th>\n",
       "      <th>LIMIT_BAL</th>\n",
       "      <th>SEX</th>\n",
       "      <th>EDUCATION</th>\n",
       "      <th>MARRIAGE</th>\n",
       "      <th>AGE</th>\n",
       "      <th>PAY_1</th>\n",
       "      <th>PAY_2</th>\n",
       "      <th>PAY_3</th>\n",
       "      <th>PAY_4</th>\n",
       "      <th>PAY_5</th>\n",
       "      <th>...</th>\n",
       "      <th>BILL_AMT4</th>\n",
       "      <th>BILL_AMT5</th>\n",
       "      <th>BILL_AMT6</th>\n",
       "      <th>PAY_AMT1</th>\n",
       "      <th>PAY_AMT2</th>\n",
       "      <th>PAY_AMT3</th>\n",
       "      <th>PAY_AMT4</th>\n",
       "      <th>PAY_AMT5</th>\n",
       "      <th>PAY_AMT6</th>\n",
       "      <th>default</th>\n",
       "    </tr>\n",
       "  </thead>\n",
       "  <tbody>\n",
       "    <tr>\n",
       "      <th>0</th>\n",
       "      <td>20000</td>\n",
       "      <td>2</td>\n",
       "      <td>2</td>\n",
       "      <td>1</td>\n",
       "      <td>24</td>\n",
       "      <td>2</td>\n",
       "      <td>2</td>\n",
       "      <td>-1</td>\n",
       "      <td>-1</td>\n",
       "      <td>-2</td>\n",
       "      <td>...</td>\n",
       "      <td>0</td>\n",
       "      <td>0</td>\n",
       "      <td>0</td>\n",
       "      <td>0</td>\n",
       "      <td>689</td>\n",
       "      <td>0</td>\n",
       "      <td>0</td>\n",
       "      <td>0</td>\n",
       "      <td>0</td>\n",
       "      <td>1</td>\n",
       "    </tr>\n",
       "    <tr>\n",
       "      <th>1</th>\n",
       "      <td>120000</td>\n",
       "      <td>2</td>\n",
       "      <td>2</td>\n",
       "      <td>2</td>\n",
       "      <td>26</td>\n",
       "      <td>-1</td>\n",
       "      <td>2</td>\n",
       "      <td>0</td>\n",
       "      <td>0</td>\n",
       "      <td>0</td>\n",
       "      <td>...</td>\n",
       "      <td>3272</td>\n",
       "      <td>3455</td>\n",
       "      <td>3261</td>\n",
       "      <td>0</td>\n",
       "      <td>1000</td>\n",
       "      <td>1000</td>\n",
       "      <td>1000</td>\n",
       "      <td>0</td>\n",
       "      <td>2000</td>\n",
       "      <td>1</td>\n",
       "    </tr>\n",
       "    <tr>\n",
       "      <th>2</th>\n",
       "      <td>90000</td>\n",
       "      <td>2</td>\n",
       "      <td>2</td>\n",
       "      <td>2</td>\n",
       "      <td>34</td>\n",
       "      <td>0</td>\n",
       "      <td>0</td>\n",
       "      <td>0</td>\n",
       "      <td>0</td>\n",
       "      <td>0</td>\n",
       "      <td>...</td>\n",
       "      <td>14331</td>\n",
       "      <td>14948</td>\n",
       "      <td>15549</td>\n",
       "      <td>1518</td>\n",
       "      <td>1500</td>\n",
       "      <td>1000</td>\n",
       "      <td>1000</td>\n",
       "      <td>1000</td>\n",
       "      <td>5000</td>\n",
       "      <td>0</td>\n",
       "    </tr>\n",
       "    <tr>\n",
       "      <th>3</th>\n",
       "      <td>50000</td>\n",
       "      <td>2</td>\n",
       "      <td>2</td>\n",
       "      <td>1</td>\n",
       "      <td>37</td>\n",
       "      <td>0</td>\n",
       "      <td>0</td>\n",
       "      <td>0</td>\n",
       "      <td>0</td>\n",
       "      <td>0</td>\n",
       "      <td>...</td>\n",
       "      <td>28314</td>\n",
       "      <td>28959</td>\n",
       "      <td>29547</td>\n",
       "      <td>2000</td>\n",
       "      <td>2019</td>\n",
       "      <td>1200</td>\n",
       "      <td>1100</td>\n",
       "      <td>1069</td>\n",
       "      <td>1000</td>\n",
       "      <td>0</td>\n",
       "    </tr>\n",
       "    <tr>\n",
       "      <th>4</th>\n",
       "      <td>50000</td>\n",
       "      <td>1</td>\n",
       "      <td>2</td>\n",
       "      <td>1</td>\n",
       "      <td>57</td>\n",
       "      <td>-1</td>\n",
       "      <td>0</td>\n",
       "      <td>-1</td>\n",
       "      <td>0</td>\n",
       "      <td>0</td>\n",
       "      <td>...</td>\n",
       "      <td>20940</td>\n",
       "      <td>19146</td>\n",
       "      <td>19131</td>\n",
       "      <td>2000</td>\n",
       "      <td>36681</td>\n",
       "      <td>10000</td>\n",
       "      <td>9000</td>\n",
       "      <td>689</td>\n",
       "      <td>679</td>\n",
       "      <td>0</td>\n",
       "    </tr>\n",
       "  </tbody>\n",
       "</table>\n",
       "<p>5 rows × 24 columns</p>\n",
       "</div>"
      ],
      "text/plain": [
       "   LIMIT_BAL  SEX  EDUCATION  MARRIAGE  AGE  PAY_1  PAY_2  PAY_3  PAY_4  \\\n",
       "0      20000    2          2         1   24      2      2     -1     -1   \n",
       "1     120000    2          2         2   26     -1      2      0      0   \n",
       "2      90000    2          2         2   34      0      0      0      0   \n",
       "3      50000    2          2         1   37      0      0      0      0   \n",
       "4      50000    1          2         1   57     -1      0     -1      0   \n",
       "\n",
       "   PAY_5  ...  BILL_AMT4  BILL_AMT5  BILL_AMT6  PAY_AMT1  PAY_AMT2  PAY_AMT3  \\\n",
       "0     -2  ...          0          0          0         0       689         0   \n",
       "1      0  ...       3272       3455       3261         0      1000      1000   \n",
       "2      0  ...      14331      14948      15549      1518      1500      1000   \n",
       "3      0  ...      28314      28959      29547      2000      2019      1200   \n",
       "4      0  ...      20940      19146      19131      2000     36681     10000   \n",
       "\n",
       "   PAY_AMT4  PAY_AMT5  PAY_AMT6  default  \n",
       "0         0         0         0        1  \n",
       "1      1000         0      2000        1  \n",
       "2      1000      1000      5000        0  \n",
       "3      1100      1069      1000        0  \n",
       "4      9000       689       679        0  \n",
       "\n",
       "[5 rows x 24 columns]"
      ]
     },
     "execution_count": 15,
     "metadata": {},
     "output_type": "execute_result"
    }
   ],
   "source": [
    "dataset.head()"
   ]
  },
  {
   "cell_type": "markdown",
   "metadata": {},
   "source": [
    "## "
   ]
  },
  {
   "cell_type": "markdown",
   "metadata": {},
   "source": [
    "### Add synthetic feature"
   ]
  },
  {
   "cell_type": "markdown",
   "metadata": {},
   "source": []
  },
  {
   "cell_type": "markdown",
   "metadata": {},
   "source": [
    "### Check if this will lead to disparity in naive model"
   ]
  },
  {
   "cell_type": "code",
   "execution_count": 10,
   "metadata": {},
   "outputs": [],
   "source": [
    "import matplotlib.pyplot as plt\n",
    "%matplotlib inline\n",
    "\n",
    "import seaborn as sns"
   ]
  },
  {
   "cell_type": "code",
   "execution_count": 16,
   "metadata": {},
   "outputs": [],
   "source": [
    "Y, A = dataset.loc[:, \"default\"], dataset.loc[:, \"SEX\"]\n",
    "X = dataset.drop(columns = [\"default\", \"SEX\"])"
   ]
  },
  {
   "cell_type": "code",
   "execution_count": 96,
   "metadata": {},
   "outputs": [
    {
     "name": "stdout",
     "output_type": "stream",
     "text": [
      "0        female\n",
      "1        female\n",
      "2        female\n",
      "3        female\n",
      "4          male\n",
      "          ...  \n",
      "29995      male\n",
      "29996      male\n",
      "29997      male\n",
      "29998      male\n",
      "29999      male\n",
      "Name: SEX, Length: 30000, dtype: object\n"
     ]
    }
   ],
   "source": [
    "A_str = A.map({1:\"male\", 2:\"female\"})\n",
    "print(A_str)"
   ]
  },
  {
   "cell_type": "code",
   "execution_count": 26,
   "metadata": {},
   "outputs": [],
   "source": [
    "# If default, Normal(2, 1) for male, Normal(2, 2) for female\n",
    "# If no default, Normal(0, 1) for male, Normal(0, 2) for female\n",
    "X.loc[:, \"Limit\"] = np.random.normal(loc=2*Y, scale=A)"
   ]
  },
  {
   "cell_type": "code",
   "execution_count": 27,
   "metadata": {},
   "outputs": [
    {
     "data": {
      "text/plain": [
       "<matplotlib.legend.Legend at 0x22b172f89d0>"
      ]
     },
     "execution_count": 27,
     "metadata": {},
     "output_type": "execute_result"
    },
    {
     "data": {
      "image/png": "[encoded data removed]",
      "text/plain": [
       "<Figure size 720x288 with 2 Axes>"
      ]
     },
     "metadata": {
      "needs_background": "light"
     },
     "output_type": "display_data"
    }
   ],
   "source": [
    "fig, (ax_1, ax_2) = plt.subplots(ncols=2, figsize=(10,4), sharey=True)\n",
    "X[\"Limit\"][(A==1) & (Y==0)].plot(kind=\"kde\", label=\"Payment on Time\", ax=ax_1, title=\"LIMIT for Men\")\n",
    "X[\"Limit\"][(A==1) & (Y==1)].plot(kind=\"kde\", label=\"Payment Default\", ax=ax_1)\n",
    "X[\"Limit\"][(A==2) & (Y==0)].plot(kind=\"kde\", label=\"Payment on Time\", ax=ax_2, legend=True, title=\"LIMIT for Women\")\n",
    "X[\"Limit\"][(A==2) & (Y==1)].plot(kind=\"kde\", label=\"Payment Default\", ax=ax_2, legend=True).legend(bbox_to_anchor=(1.6,1))"
   ]
  },
  {
   "cell_type": "code",
   "execution_count": 28,
   "metadata": {},
   "outputs": [],
   "source": [
    "X_train, X_test, y_train, y_test, A_train, A_test = train_test_split(\n",
    "    X,\n",
    "    Y,\n",
    "    A,\n",
    "    test_size=0.25,\n",
    "    stratify=Y\n",
    ")"
   ]
  },
  {
   "cell_type": "markdown",
   "metadata": {},
   "source": [
    "# Training a Model"
   ]
  },
  {
   "cell_type": "code",
   "execution_count": 29,
   "metadata": {},
   "outputs": [],
   "source": [
    "lgb_params = {\n",
    "    'objective': 'binary', \n",
    "    'metric': 'auc',\n",
    "    'learning_rate': 0.03,\n",
    "    \"num_leaves\": 10,\n",
    "    \"max_depth\": 3\n",
    "}"
   ]
  },
  {
   "cell_type": "code",
   "execution_count": 30,
   "metadata": {},
   "outputs": [],
   "source": [
    "estimator = lgb.LGBMClassifier(\n",
    "    **lgb_params\n",
    ")"
   ]
  },
  {
   "cell_type": "code",
   "execution_count": 32,
   "metadata": {},
   "outputs": [
    {
     "data": {
      "text/plain": [
       "LGBMClassifier(learning_rate=0.03, max_depth=3, metric='auc', num_leaves=10,\n",
       "               objective='binary')"
      ]
     },
     "execution_count": 32,
     "metadata": {},
     "output_type": "execute_result"
    }
   ],
   "source": [
    "estimator.fit(X_train, y_train)"
   ]
  },
  {
   "cell_type": "code",
   "execution_count": 45,
   "metadata": {},
   "outputs": [],
   "source": [
    "Y_pred_proba = estimator.predict_proba(X_test)[:, 1]\n",
    "Y_pred = (Y_pred_proba >= np.mean(y_train)) * 1"
   ]
  },
  {
   "cell_type": "code",
   "execution_count": 46,
   "metadata": {},
   "outputs": [
    {
     "data": {
      "text/plain": [
       "array([0, 1, 1, ..., 0, 0, 0])"
      ]
     },
     "execution_count": 46,
     "metadata": {},
     "output_type": "execute_result"
    }
   ],
   "source": [
    "roc_auc_score()"
   ]
  },
  {
   "cell_type": "code",
   "execution_count": 47,
   "metadata": {},
   "outputs": [
    {
     "data": {
      "text/plain": [
       "<AxesSubplot:title={'center':'Feature Importance'}, xlabel='Feature importance', ylabel='Features'>"
      ]
     },
     "execution_count": 47,
     "metadata": {},
     "output_type": "execute_result"
    },
    {
     "data": {
      "image/png": "[encoded data removed]",
      "text/plain": [
       "<Figure size 432x288 with 1 Axes>"
      ]
     },
     "metadata": {
      "needs_background": "light"
     },
     "output_type": "display_data"
    }
   ],
   "source": [
    "lgb.plot_importance(estimator, height=0.6, title=\"Feature Importance\", importance_type=\"gain\", max_num_features=15)"
   ]
  },
  {
   "cell_type": "code",
   "execution_count": null,
   "metadata": {},
   "outputs": [],
   "source": [
    "def create_metric_frame()"
   ]
  },
  {
   "cell_type": "code",
   "execution_count": 95,
   "metadata": {},
   "outputs": [],
   "source": [
    "# Helper functions\n",
    "def get_metrics_df(models_dict, y_true, group):\n",
    "    metrics_dict = {\n",
    "        \"Overall selection rate\": (\n",
    "            lambda x: selection_rate(y_true, x), True),\n",
    "        \"Demographic parity difference\": (\n",
    "            lambda x: demographic_parity_difference(y_true, x, sensitive_features=group), True),\n",
    "        \"Demographic parity ratio\": (\n",
    "            lambda x: demographic_parity_ratio(y_true, x, sensitive_features=group), True),\n",
    "        \"-----\": (lambda x: \"\", True),\n",
    "        \"Overall balanced error rate\": (\n",
    "            lambda x: 1-balanced_accuracy_score(y_true, x), True),\n",
    "        \"Balanced error rate difference\": (\n",
    "            lambda x: MetricFrame(balanced_accuracy_score, y_true, x, sensitive_features=group).difference(method='between_groups'), True),\n",
    "        \"Equalized odds difference\": (\n",
    "            lambda x: equalized_odds_difference(y_true, x, sensitive_features=group), True),\n",
    "        \"------\": (lambda x: \"\", True),\n",
    "        \"Overall AUC\": (\n",
    "            lambda x: roc_auc_score(y_true, x), False),\n",
    "        \"AUC difference\": (\n",
    "            lambda x: MetricFrame(roc_auc_score, y_true, x, sensitive_features=group).difference(method='between_groups'), False),\n",
    "    }\n",
    "    df_dict = {}\n",
    "    for metric_name, (metric_func, use_preds) in metrics_dict.items():\n",
    "        df_dict[metric_name] = [metric_func(preds) if use_preds else metric_func(scores) \n",
    "                                for model_name, (preds, scores) in models_dict.items()]\n",
    "    return pd.DataFrame.from_dict(df_dict, orient=\"index\", columns=models_dict.keys())"
   ]
  },
  {
   "cell_type": "code",
   "execution_count": 97,
   "metadata": {},
   "outputs": [],
   "source": [
    "A_str_test = A_test.replace({1:\"male\", 2:\"female\"})"
   ]
  },
  {
   "cell_type": "code",
   "execution_count": 98,
   "metadata": {},
   "outputs": [
    {
     "data": {
      "text/html": [
       "<div>\n",
       "<style scoped>\n",
       "    .dataframe tbody tr th:only-of-type {\n",
       "        vertical-align: middle;\n",
       "    }\n",
       "\n",
       "    .dataframe tbody tr th {\n",
       "        vertical-align: top;\n",
       "    }\n",
       "\n",
       "    .dataframe thead th {\n",
       "        text-align: right;\n",
       "    }\n",
       "</style>\n",
       "<table border=\"1\" class=\"dataframe\">\n",
       "  <thead>\n",
       "    <tr style=\"text-align: right;\">\n",
       "      <th></th>\n",
       "      <th>Unmitigated</th>\n",
       "    </tr>\n",
       "  </thead>\n",
       "  <tbody>\n",
       "    <tr>\n",
       "      <th>Overall selection rate</th>\n",
       "      <td>0.345867</td>\n",
       "    </tr>\n",
       "    <tr>\n",
       "      <th>Demographic parity difference</th>\n",
       "      <td>0.0688792</td>\n",
       "    </tr>\n",
       "    <tr>\n",
       "      <th>Demographic parity ratio</th>\n",
       "      <td>0.815399</td>\n",
       "    </tr>\n",
       "    <tr>\n",
       "      <th>-----</th>\n",
       "      <td></td>\n",
       "    </tr>\n",
       "    <tr>\n",
       "      <th>Overall balanced error rate</th>\n",
       "      <td>0.198069</td>\n",
       "    </tr>\n",
       "    <tr>\n",
       "      <th>Balanced error rate difference</th>\n",
       "      <td>0.116417</td>\n",
       "    </tr>\n",
       "    <tr>\n",
       "      <th>Equalized odds difference</th>\n",
       "      <td>0.13435</td>\n",
       "    </tr>\n",
       "    <tr>\n",
       "      <th>------</th>\n",
       "      <td></td>\n",
       "    </tr>\n",
       "    <tr>\n",
       "      <th>Overall AUC</th>\n",
       "      <td>0.8763</td>\n",
       "    </tr>\n",
       "    <tr>\n",
       "      <th>AUC difference</th>\n",
       "      <td>0.107515</td>\n",
       "    </tr>\n",
       "  </tbody>\n",
       "</table>\n",
       "</div>"
      ],
      "text/plain": [
       "                               Unmitigated\n",
       "Overall selection rate            0.345867\n",
       "Demographic parity difference    0.0688792\n",
       "Demographic parity ratio          0.815399\n",
       "-----                                     \n",
       "Overall balanced error rate       0.198069\n",
       "Balanced error rate difference    0.116417\n",
       "Equalized odds difference          0.13435\n",
       "------                                    \n",
       "Overall AUC                         0.8763\n",
       "AUC difference                    0.107515"
      ]
     },
     "execution_count": 98,
     "metadata": {},
     "output_type": "execute_result"
    }
   ],
   "source": [
    "models_dict = {\"Unmitigated\": (Y_pred, Y_pred_proba)}\n",
    "get_metrics_df(models_dict, y_test, A_str_test)"
   ]
  },
  {
   "cell_type": "markdown",
   "metadata": {},
   "source": [
    "### Feature Importance of the Unmitigated Classifier (Using SHAP)"
   ]
  },
  {
   "cell_type": "code",
   "execution_count": null,
   "metadata": {},
   "outputs": [],
   "source": []
  },
  {
   "cell_type": "code",
   "execution_count": null,
   "metadata": {},
   "outputs": [],
   "source": []
  },
  {
   "cell_type": "code",
   "execution_count": null,
   "metadata": {},
   "outputs": [],
   "source": []
  },
  {
   "cell_type": "markdown",
   "metadata": {},
   "source": [
    "# Mitigating Unfairness using Post-Processing Techniques"
   ]
  },
  {
   "cell_type": "code",
   "execution_count": 48,
   "metadata": {},
   "outputs": [],
   "source": [
    "postprocess_est = ThresholdOptimizer(\n",
    "    estimator=estimator,\n",
    "    constraints=\"equalized_odds\",\n",
    ")"
   ]
  },
  {
   "cell_type": "code",
   "execution_count": 69,
   "metadata": {},
   "outputs": [],
   "source": [
    "balanced_idx1 = X_train[y_train==1].index\n",
    "pp_train_idx = balanced_idx1.union(y_train[y_train==0].sample(n=balanced_idx1.size, random_state=1234).index)"
   ]
  },
  {
   "cell_type": "code",
   "execution_count": 119,
   "metadata": {},
   "outputs": [],
   "source": [
    "positive_ids = y_train[y_train == 1].index\n",
    "negative_ids = y_train[y_train == 0].sample(n=positive_ids.size, random_state=rand_seed).index\n",
    "balanced_ids = positive_ids.union(negative_ids)"
   ]
  },
  {
   "cell_type": "markdown",
   "metadata": {},
   "source": [
    "### Re-balance the training dataset"
   ]
  },
  {
   "cell_type": "code",
   "execution_count": null,
   "metadata": {},
   "outputs": [],
   "source": [
    "positive_ids = y_train.query(\"default == 1\").index\n",
    "negative_ids = y_train.query(\"default == 0\").sample(n=positive_ids.size, random_state=rand_seed).index\n",
    "balanced_ids = positive_ids.union(negative_ids)balanced_idx1 = df_train[Y_train==1].index"
   ]
  },
  {
   "cell_type": "code",
   "execution_count": 75,
   "metadata": {},
   "outputs": [],
   "source": [
    "X_train_balanced = X_train.loc[pp_train_idx,:]\n",
    "y_train_balanced = y_train.loc[pp_train_idx]\n",
    "A_train_balanced = A_train.loc[pp_train_idx]"
   ]
  },
  {
   "cell_type": "code",
   "execution_count": 76,
   "metadata": {},
   "outputs": [
    {
     "data": {
      "text/plain": [
       "ThresholdOptimizer(constraints='equalized_odds',\n",
       "                   estimator=LGBMClassifier(learning_rate=0.03, max_depth=3,\n",
       "                                            metric='auc', num_leaves=10,\n",
       "                                            objective='binary'))"
      ]
     },
     "execution_count": 76,
     "metadata": {},
     "output_type": "execute_result"
    }
   ],
   "source": [
    "postprocess_est.fit(\n",
    "    X=X_train_balanced,\n",
    "    y=y_train_balanced,\n",
    "    sensitive_features=A_train_balanced\n",
    ")"
   ]
  },
  {
   "cell_type": "code",
   "execution_count": 77,
   "metadata": {},
   "outputs": [],
   "source": [
    "postprocess_pred = postprocess_est.predict(\n",
    "    X_test,\n",
    "    sensitive_features=A_test\n",
    ")"
   ]
  },
  {
   "cell_type": "code",
   "execution_count": 93,
   "metadata": {},
   "outputs": [
    {
     "data": {
      "text/plain": [
       "0.7538666666666667"
      ]
     },
     "execution_count": 93,
     "metadata": {},
     "output_type": "execute_result"
    }
   ],
   "source": [
    "(postprocess_pred == y_test).mean()"
   ]
  },
  {
   "cell_type": "code",
   "execution_count": null,
   "metadata": {},
   "outputs": [],
   "source": []
  },
  {
   "cell_type": "markdown",
   "metadata": {},
   "source": [
    "#### Add callout to unawareness issue"
   ]
  },
  {
   "cell_type": "markdown",
   "metadata": {},
   "source": [
    "### Feature Importance of Post-Processed Model"
   ]
  },
  {
   "cell_type": "markdown",
   "metadata": {},
   "source": [
    "## Mitigating Unfairness using GridSearch"
   ]
  },
  {
   "cell_type": "markdown",
   "metadata": {},
   "source": [
    "#### Replace with Exponentiated Gradient\n",
    "- Try the Exponentiated Gradient with different Lambdas\n",
    "    - Are epsilons the lambdas?\n",
    "    - Want some amounts of trade-offs\n",
    "    - Returns a randomized classifier\n",
    "        - Re-run Grid Search with those lambdas"
   ]
  },
  {
   "cell_type": "code",
   "execution_count": 129,
   "metadata": {},
   "outputs": [],
   "source": [
    "def compute_model_performance(model, X_test, y_test, A_test, baseline):\n",
    "    model_pred_proba = model.predict_proba(X_test)[:,1]\n",
    "    model_pred = (model_pred_proba >= baseline)*1\n",
    "    roc = roc_auc_score(y_test, model_pred_proba)\n",
    "    equal_odds_diff = equalized_odds_difference(y_test, model_pred, sensitive_features=A_test)\n",
    "    return (roc, equal_odds_diff)"
   ]
  },
  {
   "cell_type": "code",
   "execution_count": 83,
   "metadata": {},
   "outputs": [],
   "source": [
    "from fairlearn.reductions import EqualizedOdds"
   ]
  },
  {
   "cell_type": "code",
   "execution_count": 111,
   "metadata": {},
   "outputs": [],
   "source": [
    "epsilons = [0.01, 0.02, 0.05, 0.1]"
   ]
  },
  {
   "cell_type": "code",
   "execution_count": 114,
   "metadata": {},
   "outputs": [],
   "source": [
    "def get_expgrad_models_per_epsilon(estimator, epsilon):\n",
    "    exp_grad_est = ExponentiatedGradient(\n",
    "        estimator=estimator,\n",
    "        constraints=EqualizedOdds(difference_bound=epsilon)\n",
    "    )\n",
    "    #Is this an issue - Re-runs\n",
    "    exp_grad_est.fit(X_train_balanced, y_train_balanced, sensitive_features=A_train_balanced)\n",
    "    predictors = exp_grad_est.predictors_\n",
    "    return predictors"
   ]
  },
  {
   "cell_type": "code",
   "execution_count": 115,
   "metadata": {},
   "outputs": [],
   "source": [
    "all_models = {}\n",
    "for eps in epsilons:\n",
    "    all_models[eps] = get_expgrad_models_per_epsilon(estimator=estimator, epsilon=eps)"
   ]
  },
  {
   "cell_type": "code",
   "execution_count": 123,
   "metadata": {},
   "outputs": [
    {
     "data": {
      "text/html": [
       "<div>\n",
       "<style scoped>\n",
       "    .dataframe tbody tr th:only-of-type {\n",
       "        vertical-align: middle;\n",
       "    }\n",
       "\n",
       "    .dataframe tbody tr th {\n",
       "        vertical-align: top;\n",
       "    }\n",
       "\n",
       "    .dataframe thead th {\n",
       "        text-align: right;\n",
       "    }\n",
       "</style>\n",
       "<table border=\"1\" class=\"dataframe\">\n",
       "  <thead>\n",
       "    <tr style=\"text-align: right;\">\n",
       "      <th></th>\n",
       "      <th>LIMIT_BAL</th>\n",
       "      <th>EDUCATION</th>\n",
       "      <th>MARRIAGE</th>\n",
       "      <th>AGE</th>\n",
       "      <th>PAY_1</th>\n",
       "      <th>PAY_2</th>\n",
       "      <th>PAY_3</th>\n",
       "      <th>PAY_4</th>\n",
       "      <th>PAY_5</th>\n",
       "      <th>PAY_6</th>\n",
       "      <th>...</th>\n",
       "      <th>BILL_AMT4</th>\n",
       "      <th>BILL_AMT5</th>\n",
       "      <th>BILL_AMT6</th>\n",
       "      <th>PAY_AMT1</th>\n",
       "      <th>PAY_AMT2</th>\n",
       "      <th>PAY_AMT3</th>\n",
       "      <th>PAY_AMT4</th>\n",
       "      <th>PAY_AMT5</th>\n",
       "      <th>PAY_AMT6</th>\n",
       "      <th>Limit</th>\n",
       "    </tr>\n",
       "  </thead>\n",
       "  <tbody>\n",
       "    <tr>\n",
       "      <th>26295</th>\n",
       "      <td>70000</td>\n",
       "      <td>2</td>\n",
       "      <td>1</td>\n",
       "      <td>47</td>\n",
       "      <td>0</td>\n",
       "      <td>0</td>\n",
       "      <td>0</td>\n",
       "      <td>0</td>\n",
       "      <td>0</td>\n",
       "      <td>-2</td>\n",
       "      <td>...</td>\n",
       "      <td>53696</td>\n",
       "      <td>11790</td>\n",
       "      <td>12045</td>\n",
       "      <td>3158</td>\n",
       "      <td>10000</td>\n",
       "      <td>2446</td>\n",
       "      <td>11790</td>\n",
       "      <td>430</td>\n",
       "      <td>423</td>\n",
       "      <td>0.025641</td>\n",
       "    </tr>\n",
       "    <tr>\n",
       "      <th>7357</th>\n",
       "      <td>80000</td>\n",
       "      <td>2</td>\n",
       "      <td>2</td>\n",
       "      <td>36</td>\n",
       "      <td>0</td>\n",
       "      <td>0</td>\n",
       "      <td>0</td>\n",
       "      <td>0</td>\n",
       "      <td>0</td>\n",
       "      <td>0</td>\n",
       "      <td>...</td>\n",
       "      <td>23903</td>\n",
       "      <td>24367</td>\n",
       "      <td>24964</td>\n",
       "      <td>1337</td>\n",
       "      <td>1368</td>\n",
       "      <td>3003</td>\n",
       "      <td>1000</td>\n",
       "      <td>1000</td>\n",
       "      <td>2000</td>\n",
       "      <td>2.324150</td>\n",
       "    </tr>\n",
       "    <tr>\n",
       "      <th>15060</th>\n",
       "      <td>20000</td>\n",
       "      <td>3</td>\n",
       "      <td>1</td>\n",
       "      <td>38</td>\n",
       "      <td>2</td>\n",
       "      <td>0</td>\n",
       "      <td>0</td>\n",
       "      <td>-1</td>\n",
       "      <td>-1</td>\n",
       "      <td>-1</td>\n",
       "      <td>...</td>\n",
       "      <td>390</td>\n",
       "      <td>390</td>\n",
       "      <td>0</td>\n",
       "      <td>1515</td>\n",
       "      <td>1000</td>\n",
       "      <td>390</td>\n",
       "      <td>390</td>\n",
       "      <td>0</td>\n",
       "      <td>780</td>\n",
       "      <td>0.953322</td>\n",
       "    </tr>\n",
       "    <tr>\n",
       "      <th>13637</th>\n",
       "      <td>90000</td>\n",
       "      <td>2</td>\n",
       "      <td>2</td>\n",
       "      <td>26</td>\n",
       "      <td>0</td>\n",
       "      <td>0</td>\n",
       "      <td>2</td>\n",
       "      <td>0</td>\n",
       "      <td>0</td>\n",
       "      <td>0</td>\n",
       "      <td>...</td>\n",
       "      <td>48574</td>\n",
       "      <td>41746</td>\n",
       "      <td>38486</td>\n",
       "      <td>8548</td>\n",
       "      <td>0</td>\n",
       "      <td>1527</td>\n",
       "      <td>1617</td>\n",
       "      <td>1490</td>\n",
       "      <td>659</td>\n",
       "      <td>-2.857326</td>\n",
       "    </tr>\n",
       "    <tr>\n",
       "      <th>25376</th>\n",
       "      <td>200000</td>\n",
       "      <td>1</td>\n",
       "      <td>2</td>\n",
       "      <td>29</td>\n",
       "      <td>0</td>\n",
       "      <td>0</td>\n",
       "      <td>-1</td>\n",
       "      <td>-1</td>\n",
       "      <td>-1</td>\n",
       "      <td>0</td>\n",
       "      <td>...</td>\n",
       "      <td>1961</td>\n",
       "      <td>1357</td>\n",
       "      <td>1357</td>\n",
       "      <td>25000</td>\n",
       "      <td>8082</td>\n",
       "      <td>2580</td>\n",
       "      <td>1357</td>\n",
       "      <td>0</td>\n",
       "      <td>0</td>\n",
       "      <td>1.363458</td>\n",
       "    </tr>\n",
       "    <tr>\n",
       "      <th>...</th>\n",
       "      <td>...</td>\n",
       "      <td>...</td>\n",
       "      <td>...</td>\n",
       "      <td>...</td>\n",
       "      <td>...</td>\n",
       "      <td>...</td>\n",
       "      <td>...</td>\n",
       "      <td>...</td>\n",
       "      <td>...</td>\n",
       "      <td>...</td>\n",
       "      <td>...</td>\n",
       "      <td>...</td>\n",
       "      <td>...</td>\n",
       "      <td>...</td>\n",
       "      <td>...</td>\n",
       "      <td>...</td>\n",
       "      <td>...</td>\n",
       "      <td>...</td>\n",
       "      <td>...</td>\n",
       "      <td>...</td>\n",
       "      <td>...</td>\n",
       "    </tr>\n",
       "    <tr>\n",
       "      <th>1200</th>\n",
       "      <td>120000</td>\n",
       "      <td>3</td>\n",
       "      <td>1</td>\n",
       "      <td>40</td>\n",
       "      <td>0</td>\n",
       "      <td>0</td>\n",
       "      <td>0</td>\n",
       "      <td>0</td>\n",
       "      <td>0</td>\n",
       "      <td>0</td>\n",
       "      <td>...</td>\n",
       "      <td>49078</td>\n",
       "      <td>40643</td>\n",
       "      <td>4200</td>\n",
       "      <td>5000</td>\n",
       "      <td>4121</td>\n",
       "      <td>2000</td>\n",
       "      <td>2000</td>\n",
       "      <td>2000</td>\n",
       "      <td>96583</td>\n",
       "      <td>-1.315005</td>\n",
       "    </tr>\n",
       "    <tr>\n",
       "      <th>25148</th>\n",
       "      <td>150000</td>\n",
       "      <td>3</td>\n",
       "      <td>2</td>\n",
       "      <td>28</td>\n",
       "      <td>0</td>\n",
       "      <td>0</td>\n",
       "      <td>0</td>\n",
       "      <td>0</td>\n",
       "      <td>0</td>\n",
       "      <td>0</td>\n",
       "      <td>...</td>\n",
       "      <td>101441</td>\n",
       "      <td>100829</td>\n",
       "      <td>101913</td>\n",
       "      <td>4700</td>\n",
       "      <td>4000</td>\n",
       "      <td>4032</td>\n",
       "      <td>3410</td>\n",
       "      <td>4000</td>\n",
       "      <td>3665</td>\n",
       "      <td>-3.148524</td>\n",
       "    </tr>\n",
       "    <tr>\n",
       "      <th>21818</th>\n",
       "      <td>290000</td>\n",
       "      <td>2</td>\n",
       "      <td>1</td>\n",
       "      <td>26</td>\n",
       "      <td>0</td>\n",
       "      <td>0</td>\n",
       "      <td>0</td>\n",
       "      <td>0</td>\n",
       "      <td>0</td>\n",
       "      <td>0</td>\n",
       "      <td>...</td>\n",
       "      <td>128721</td>\n",
       "      <td>95657</td>\n",
       "      <td>90210</td>\n",
       "      <td>6500</td>\n",
       "      <td>5300</td>\n",
       "      <td>4000</td>\n",
       "      <td>5000</td>\n",
       "      <td>3000</td>\n",
       "      <td>2974</td>\n",
       "      <td>1.700830</td>\n",
       "    </tr>\n",
       "    <tr>\n",
       "      <th>15197</th>\n",
       "      <td>140000</td>\n",
       "      <td>2</td>\n",
       "      <td>2</td>\n",
       "      <td>26</td>\n",
       "      <td>0</td>\n",
       "      <td>0</td>\n",
       "      <td>0</td>\n",
       "      <td>0</td>\n",
       "      <td>0</td>\n",
       "      <td>0</td>\n",
       "      <td>...</td>\n",
       "      <td>101065</td>\n",
       "      <td>64570</td>\n",
       "      <td>51521</td>\n",
       "      <td>10207</td>\n",
       "      <td>9120</td>\n",
       "      <td>3000</td>\n",
       "      <td>2117</td>\n",
       "      <td>2000</td>\n",
       "      <td>2000</td>\n",
       "      <td>0.323201</td>\n",
       "    </tr>\n",
       "    <tr>\n",
       "      <th>22436</th>\n",
       "      <td>310000</td>\n",
       "      <td>2</td>\n",
       "      <td>1</td>\n",
       "      <td>38</td>\n",
       "      <td>0</td>\n",
       "      <td>0</td>\n",
       "      <td>0</td>\n",
       "      <td>0</td>\n",
       "      <td>0</td>\n",
       "      <td>0</td>\n",
       "      <td>...</td>\n",
       "      <td>239008</td>\n",
       "      <td>245493</td>\n",
       "      <td>250797</td>\n",
       "      <td>12000</td>\n",
       "      <td>12000</td>\n",
       "      <td>8500</td>\n",
       "      <td>10000</td>\n",
       "      <td>9000</td>\n",
       "      <td>8500</td>\n",
       "      <td>0.639403</td>\n",
       "    </tr>\n",
       "  </tbody>\n",
       "</table>\n",
       "<p>7500 rows × 23 columns</p>\n",
       "</div>"
      ],
      "text/plain": [
       "       LIMIT_BAL  EDUCATION  MARRIAGE  AGE  PAY_1  PAY_2  PAY_3  PAY_4  PAY_5  \\\n",
       "26295      70000          2         1   47      0      0      0      0      0   \n",
       "7357       80000          2         2   36      0      0      0      0      0   \n",
       "15060      20000          3         1   38      2      0      0     -1     -1   \n",
       "13637      90000          2         2   26      0      0      2      0      0   \n",
       "25376     200000          1         2   29      0      0     -1     -1     -1   \n",
       "...          ...        ...       ...  ...    ...    ...    ...    ...    ...   \n",
       "1200      120000          3         1   40      0      0      0      0      0   \n",
       "25148     150000          3         2   28      0      0      0      0      0   \n",
       "21818     290000          2         1   26      0      0      0      0      0   \n",
       "15197     140000          2         2   26      0      0      0      0      0   \n",
       "22436     310000          2         1   38      0      0      0      0      0   \n",
       "\n",
       "       PAY_6  ...  BILL_AMT4  BILL_AMT5  BILL_AMT6  PAY_AMT1  PAY_AMT2  \\\n",
       "26295     -2  ...      53696      11790      12045      3158     10000   \n",
       "7357       0  ...      23903      24367      24964      1337      1368   \n",
       "15060     -1  ...        390        390          0      1515      1000   \n",
       "13637      0  ...      48574      41746      38486      8548         0   \n",
       "25376      0  ...       1961       1357       1357     25000      8082   \n",
       "...      ...  ...        ...        ...        ...       ...       ...   \n",
       "1200       0  ...      49078      40643       4200      5000      4121   \n",
       "25148      0  ...     101441     100829     101913      4700      4000   \n",
       "21818      0  ...     128721      95657      90210      6500      5300   \n",
       "15197      0  ...     101065      64570      51521     10207      9120   \n",
       "22436      0  ...     239008     245493     250797     12000     12000   \n",
       "\n",
       "       PAY_AMT3  PAY_AMT4  PAY_AMT5  PAY_AMT6     Limit  \n",
       "26295      2446     11790       430       423  0.025641  \n",
       "7357       3003      1000      1000      2000  2.324150  \n",
       "15060       390       390         0       780  0.953322  \n",
       "13637      1527      1617      1490       659 -2.857326  \n",
       "25376      2580      1357         0         0  1.363458  \n",
       "...         ...       ...       ...       ...       ...  \n",
       "1200       2000      2000      2000     96583 -1.315005  \n",
       "25148      4032      3410      4000      3665 -3.148524  \n",
       "21818      4000      5000      3000      2974  1.700830  \n",
       "15197      3000      2117      2000      2000  0.323201  \n",
       "22436      8500     10000      9000      8500  0.639403  \n",
       "\n",
       "[7500 rows x 23 columns]"
      ]
     },
     "execution_count": 123,
     "metadata": {},
     "output_type": "execute_result"
    }
   ],
   "source": []
  },
  {
   "cell_type": "code",
   "execution_count": 130,
   "metadata": {},
   "outputs": [],
   "source": [
    "all_model_performances = {}\n",
    "baseline = np.mean(y_train)\n",
    "for (k, v) in all_models.items():\n",
    "    all_model_performances[k] = [compute_model_performance(model, X_test, y_test, A_test, baseline) for model in v]"
   ]
  },
  {
   "cell_type": "code",
   "execution_count": 128,
   "metadata": {},
   "outputs": [
    {
     "name": "stdout",
     "output_type": "stream",
     "text": [
      "0.01 [(0.8778239170858779, 0.726789766051727), (0.8784418597763373, 0.7232087324342205), (0.34005867153260416, 0.41324081530045914), (0.8789107346283918, 0.7162000673049804), (0.32820847495809946, 0.5), (0.8792444732157241, 0.7086777914926381), (0.6024117721178437, 0.534483276384156), (0.879096334148898, 0.6997038457025584), (0.8061926154610128, 0.5439672725662856), (0.8786842175599953, 0.6865764334118765), (0.8294912633037499, 0.5446253072298985), (0.878593920323163, 0.6818344353208117), (0.855782413173531, 0.5498398952593331), (0.8529449128033122, 0.5788785578530269), (0.8780791744747977, 0.6719081890718879), (0.8605435542788041, 0.622171697048333), (0.8648929399841221, 0.6297902555143491), (0.8191983586748659, 0.5417184069833716), (0.5147576644036631, 0.5), (0.4275486446694342, 0.5)]\n",
      "0.02 [(0.8778239170858779, 0.726789766051727), (0.8784418597763373, 0.7232087324342205), (0.34005867153260416, 0.41324081530045914), (0.8789107346283918, 0.7162000673049804), (0.32820847495809946, 0.5), (0.8792445764125661, 0.7086777914926381), (0.6024117721178437, 0.534483276384156), (0.8790966437394243, 0.6997038457025584), (0.8061926154610128, 0.5439672725662856), (0.8786844239536795, 0.6865764334118765), (0.8294912633037499, 0.5446253072298985), (0.8785934043389525, 0.6818344353208117), (0.855782413173531, 0.5498398952593331), (0.8529449128033122, 0.5788785578530269), (0.8780792776716398, 0.6719081890718879), (0.8605435542788041, 0.622171697048333), (0.8776592665243169, 0.663697538724357), (0.8087535998928403, 0.5365002586628848), (0.42320245806622125, 0.5)]\n",
      "0.05 [(0.8778239170858779, 0.726789766051727), (0.8784413437921269, 0.7232087324342205), (0.34005867153260416, 0.41324081530045914), (0.8787267862573591, 0.7169704833296338), (0.7927348184803666, 0.5435838446994851), (0.879183999866257, 0.7087633932731552), (0.8688226757310645, 0.5839736439393166), (0.8790225484068006, 0.6957251430540424), (0.8779650903658628, 0.7041890384520721), (0.878805628644719, 0.6886308761442853)]\n",
      "0.1 [(0.8778239170858779, 0.726789766051727), (0.8784415501858109, 0.7232087324342205), (0.878726579863675, 0.7169704833296338), (0.8791832774883622, 0.7087633932731552), (0.8790954053773192, 0.6997894474830755), (0.8786830307963112, 0.6900040649236101)]\n"
     ]
    }
   ],
   "source": []
  },
  {
   "cell_type": "code",
   "execution_count": null,
   "metadata": {},
   "outputs": [],
   "source": []
  },
  {
   "cell_type": "code",
   "execution_count": 84,
   "metadata": {},
   "outputs": [],
   "source": [
    "exp_gradient_est = ExponentiatedGradient(\n",
    "    estimator=estimator,\n",
    "    constraints=EqualizedOdds(difference_bound=0.05), #Try 0.01, 0.02, 0.05, 0.1\n",
    ") "
   ]
  },
  {
   "cell_type": "code",
   "execution_count": null,
   "metadata": {},
   "outputs": [],
   "source": [
    "# Loop through different bounds, take all 80 classifiers\n",
    "# Raster plot with 100 points, focus on seeing the trade-offs\n",
    "# Check for most interesting; given random seed"
   ]
  },
  {
   "cell_type": "code",
   "execution_count": 85,
   "metadata": {},
   "outputs": [],
   "source": [
    "exp_gradient_est.fit(X_train_balanced, y_train_balanced, sensitive_features=A_train_balanced)"
   ]
  },
  {
   "cell_type": "code",
   "execution_count": 86,
   "metadata": {},
   "outputs": [],
   "source": [
    "gradient_preds = exp_gradient_est.predict(X_test)"
   ]
  },
  {
   "cell_type": "code",
   "execution_count": 90,
   "metadata": {},
   "outputs": [
    {
     "data": {
      "text/plain": [
       "0.8068"
      ]
     },
     "execution_count": 90,
     "metadata": {},
     "output_type": "execute_result"
    }
   ],
   "source": [
    "(gradient_preds == y_test).mean()"
   ]
  },
  {
   "cell_type": "code",
   "execution_count": 102,
   "metadata": {},
   "outputs": [
    {
     "data": {
      "text/html": [
       "<div>\n",
       "<style scoped>\n",
       "    .dataframe tbody tr th:only-of-type {\n",
       "        vertical-align: middle;\n",
       "    }\n",
       "\n",
       "    .dataframe tbody tr th {\n",
       "        vertical-align: top;\n",
       "    }\n",
       "\n",
       "    .dataframe thead th {\n",
       "        text-align: right;\n",
       "    }\n",
       "</style>\n",
       "<table border=\"1\" class=\"dataframe\">\n",
       "  <thead>\n",
       "    <tr style=\"text-align: right;\">\n",
       "      <th></th>\n",
       "      <th></th>\n",
       "      <th></th>\n",
       "      <th>0</th>\n",
       "      <th>1</th>\n",
       "      <th>2</th>\n",
       "      <th>3</th>\n",
       "      <th>4</th>\n",
       "      <th>5</th>\n",
       "      <th>6</th>\n",
       "      <th>7</th>\n",
       "      <th>8</th>\n",
       "      <th>9</th>\n",
       "      <th>10</th>\n",
       "      <th>11</th>\n",
       "      <th>12</th>\n",
       "      <th>13</th>\n",
       "      <th>14</th>\n",
       "      <th>15</th>\n",
       "      <th>16</th>\n",
       "      <th>17</th>\n",
       "      <th>18</th>\n",
       "      <th>19</th>\n",
       "    </tr>\n",
       "    <tr>\n",
       "      <th>sign</th>\n",
       "      <th>event</th>\n",
       "      <th>group_id</th>\n",
       "      <th></th>\n",
       "      <th></th>\n",
       "      <th></th>\n",
       "      <th></th>\n",
       "      <th></th>\n",
       "      <th></th>\n",
       "      <th></th>\n",
       "      <th></th>\n",
       "      <th></th>\n",
       "      <th></th>\n",
       "      <th></th>\n",
       "      <th></th>\n",
       "      <th></th>\n",
       "      <th></th>\n",
       "      <th></th>\n",
       "      <th></th>\n",
       "      <th></th>\n",
       "      <th></th>\n",
       "      <th></th>\n",
       "      <th></th>\n",
       "    </tr>\n",
       "  </thead>\n",
       "  <tbody>\n",
       "    <tr>\n",
       "      <th rowspan=\"4\" valign=\"top\">+</th>\n",
       "      <th rowspan=\"2\" valign=\"top\">label=0</th>\n",
       "      <th>1</th>\n",
       "      <td>11.111111</td>\n",
       "      <td>11.095103</td>\n",
       "      <td>0.0</td>\n",
       "      <td>11.080017</td>\n",
       "      <td>12.176698</td>\n",
       "      <td>11.064878</td>\n",
       "      <td>0.000000</td>\n",
       "      <td>11.050685</td>\n",
       "      <td>0.000000</td>\n",
       "      <td>11.037278</td>\n",
       "      <td>0.000000</td>\n",
       "      <td>11.024697</td>\n",
       "      <td>0.000000</td>\n",
       "      <td>0.000000</td>\n",
       "      <td>11.003604</td>\n",
       "      <td>0.000000</td>\n",
       "      <td>0.000000</td>\n",
       "      <td>0.000000</td>\n",
       "      <td>0.000000</td>\n",
       "      <td>0.000000</td>\n",
       "    </tr>\n",
       "    <tr>\n",
       "      <th>2</th>\n",
       "      <td>11.111111</td>\n",
       "      <td>11.120683</td>\n",
       "      <td>0.0</td>\n",
       "      <td>11.129685</td>\n",
       "      <td>0.000000</td>\n",
       "      <td>11.138728</td>\n",
       "      <td>0.000000</td>\n",
       "      <td>11.147184</td>\n",
       "      <td>0.000000</td>\n",
       "      <td>11.155156</td>\n",
       "      <td>0.000000</td>\n",
       "      <td>11.162616</td>\n",
       "      <td>0.000000</td>\n",
       "      <td>0.000000</td>\n",
       "      <td>11.174996</td>\n",
       "      <td>0.000000</td>\n",
       "      <td>0.000000</td>\n",
       "      <td>0.000000</td>\n",
       "      <td>0.000000</td>\n",
       "      <td>0.000000</td>\n",
       "    </tr>\n",
       "    <tr>\n",
       "      <th rowspan=\"2\" valign=\"top\">label=1</th>\n",
       "      <th>1</th>\n",
       "      <td>11.111111</td>\n",
       "      <td>11.120593</td>\n",
       "      <td>0.0</td>\n",
       "      <td>11.129773</td>\n",
       "      <td>87.823302</td>\n",
       "      <td>11.138480</td>\n",
       "      <td>1.505520</td>\n",
       "      <td>11.147007</td>\n",
       "      <td>0.000000</td>\n",
       "      <td>11.154818</td>\n",
       "      <td>0.890280</td>\n",
       "      <td>11.162036</td>\n",
       "      <td>0.486139</td>\n",
       "      <td>0.821041</td>\n",
       "      <td>11.175596</td>\n",
       "      <td>0.676369</td>\n",
       "      <td>0.609271</td>\n",
       "      <td>1.218542</td>\n",
       "      <td>3.046356</td>\n",
       "      <td>6.092712</td>\n",
       "    </tr>\n",
       "    <tr>\n",
       "      <th>2</th>\n",
       "      <td>11.111111</td>\n",
       "      <td>11.103291</td>\n",
       "      <td>0.0</td>\n",
       "      <td>11.095701</td>\n",
       "      <td>0.000000</td>\n",
       "      <td>11.088473</td>\n",
       "      <td>0.000000</td>\n",
       "      <td>11.081381</td>\n",
       "      <td>0.000000</td>\n",
       "      <td>11.074843</td>\n",
       "      <td>0.000000</td>\n",
       "      <td>11.068763</td>\n",
       "      <td>0.000000</td>\n",
       "      <td>0.000000</td>\n",
       "      <td>11.057291</td>\n",
       "      <td>0.000000</td>\n",
       "      <td>0.000000</td>\n",
       "      <td>0.000000</td>\n",
       "      <td>0.000000</td>\n",
       "      <td>0.000000</td>\n",
       "    </tr>\n",
       "    <tr>\n",
       "      <th rowspan=\"4\" valign=\"top\">-</th>\n",
       "      <th rowspan=\"2\" valign=\"top\">label=0</th>\n",
       "      <th>1</th>\n",
       "      <td>11.111111</td>\n",
       "      <td>11.126638</td>\n",
       "      <td>100.0</td>\n",
       "      <td>11.141264</td>\n",
       "      <td>0.000000</td>\n",
       "      <td>11.155966</td>\n",
       "      <td>1.306231</td>\n",
       "      <td>11.169738</td>\n",
       "      <td>1.338238</td>\n",
       "      <td>11.182739</td>\n",
       "      <td>0.550559</td>\n",
       "      <td>11.194924</td>\n",
       "      <td>0.550452</td>\n",
       "      <td>0.067884</td>\n",
       "      <td>11.215220</td>\n",
       "      <td>0.142035</td>\n",
       "      <td>0.164875</td>\n",
       "      <td>0.329750</td>\n",
       "      <td>0.824376</td>\n",
       "      <td>1.648751</td>\n",
       "    </tr>\n",
       "    <tr>\n",
       "      <th>2</th>\n",
       "      <td>11.111111</td>\n",
       "      <td>11.101044</td>\n",
       "      <td>0.0</td>\n",
       "      <td>11.091544</td>\n",
       "      <td>0.000000</td>\n",
       "      <td>11.082002</td>\n",
       "      <td>0.000000</td>\n",
       "      <td>11.073044</td>\n",
       "      <td>0.000000</td>\n",
       "      <td>11.064569</td>\n",
       "      <td>0.000000</td>\n",
       "      <td>11.056606</td>\n",
       "      <td>0.000000</td>\n",
       "      <td>0.000000</td>\n",
       "      <td>11.043211</td>\n",
       "      <td>0.000000</td>\n",
       "      <td>0.000000</td>\n",
       "      <td>0.000000</td>\n",
       "      <td>0.000000</td>\n",
       "      <td>0.000000</td>\n",
       "    </tr>\n",
       "    <tr>\n",
       "      <th rowspan=\"2\" valign=\"top\">label=1</th>\n",
       "      <th>1</th>\n",
       "      <td>11.111111</td>\n",
       "      <td>11.101134</td>\n",
       "      <td>0.0</td>\n",
       "      <td>11.091456</td>\n",
       "      <td>0.000000</td>\n",
       "      <td>11.082249</td>\n",
       "      <td>0.000000</td>\n",
       "      <td>11.073220</td>\n",
       "      <td>0.000000</td>\n",
       "      <td>11.064904</td>\n",
       "      <td>0.000000</td>\n",
       "      <td>11.057180</td>\n",
       "      <td>0.000000</td>\n",
       "      <td>0.000000</td>\n",
       "      <td>11.042618</td>\n",
       "      <td>0.000000</td>\n",
       "      <td>0.000000</td>\n",
       "      <td>0.000000</td>\n",
       "      <td>0.000000</td>\n",
       "      <td>0.000000</td>\n",
       "    </tr>\n",
       "    <tr>\n",
       "      <th>2</th>\n",
       "      <td>11.111111</td>\n",
       "      <td>11.118432</td>\n",
       "      <td>0.0</td>\n",
       "      <td>11.125516</td>\n",
       "      <td>0.000000</td>\n",
       "      <td>11.132228</td>\n",
       "      <td>0.000000</td>\n",
       "      <td>11.138797</td>\n",
       "      <td>0.000000</td>\n",
       "      <td>11.144808</td>\n",
       "      <td>0.000000</td>\n",
       "      <td>11.150355</td>\n",
       "      <td>0.000000</td>\n",
       "      <td>0.000000</td>\n",
       "      <td>11.160766</td>\n",
       "      <td>0.000000</td>\n",
       "      <td>0.000000</td>\n",
       "      <td>0.000000</td>\n",
       "      <td>0.000000</td>\n",
       "      <td>0.000000</td>\n",
       "    </tr>\n",
       "  </tbody>\n",
       "</table>\n",
       "</div>"
      ],
      "text/plain": [
       "                              0          1      2          3          4   \\\n",
       "sign event   group_id                                                      \n",
       "+    label=0 1         11.111111  11.095103    0.0  11.080017  12.176698   \n",
       "             2         11.111111  11.120683    0.0  11.129685   0.000000   \n",
       "     label=1 1         11.111111  11.120593    0.0  11.129773  87.823302   \n",
       "             2         11.111111  11.103291    0.0  11.095701   0.000000   \n",
       "-    label=0 1         11.111111  11.126638  100.0  11.141264   0.000000   \n",
       "             2         11.111111  11.101044    0.0  11.091544   0.000000   \n",
       "     label=1 1         11.111111  11.101134    0.0  11.091456   0.000000   \n",
       "             2         11.111111  11.118432    0.0  11.125516   0.000000   \n",
       "\n",
       "                              5         6          7         8          9   \\\n",
       "sign event   group_id                                                        \n",
       "+    label=0 1         11.064878  0.000000  11.050685  0.000000  11.037278   \n",
       "             2         11.138728  0.000000  11.147184  0.000000  11.155156   \n",
       "     label=1 1         11.138480  1.505520  11.147007  0.000000  11.154818   \n",
       "             2         11.088473  0.000000  11.081381  0.000000  11.074843   \n",
       "-    label=0 1         11.155966  1.306231  11.169738  1.338238  11.182739   \n",
       "             2         11.082002  0.000000  11.073044  0.000000  11.064569   \n",
       "     label=1 1         11.082249  0.000000  11.073220  0.000000  11.064904   \n",
       "             2         11.132228  0.000000  11.138797  0.000000  11.144808   \n",
       "\n",
       "                             10         11        12        13         14  \\\n",
       "sign event   group_id                                                       \n",
       "+    label=0 1         0.000000  11.024697  0.000000  0.000000  11.003604   \n",
       "             2         0.000000  11.162616  0.000000  0.000000  11.174996   \n",
       "     label=1 1         0.890280  11.162036  0.486139  0.821041  11.175596   \n",
       "             2         0.000000  11.068763  0.000000  0.000000  11.057291   \n",
       "-    label=0 1         0.550559  11.194924  0.550452  0.067884  11.215220   \n",
       "             2         0.000000  11.056606  0.000000  0.000000  11.043211   \n",
       "     label=1 1         0.000000  11.057180  0.000000  0.000000  11.042618   \n",
       "             2         0.000000  11.150355  0.000000  0.000000  11.160766   \n",
       "\n",
       "                             15        16        17        18        19  \n",
       "sign event   group_id                                                    \n",
       "+    label=0 1         0.000000  0.000000  0.000000  0.000000  0.000000  \n",
       "             2         0.000000  0.000000  0.000000  0.000000  0.000000  \n",
       "     label=1 1         0.676369  0.609271  1.218542  3.046356  6.092712  \n",
       "             2         0.000000  0.000000  0.000000  0.000000  0.000000  \n",
       "-    label=0 1         0.142035  0.164875  0.329750  0.824376  1.648751  \n",
       "             2         0.000000  0.000000  0.000000  0.000000  0.000000  \n",
       "     label=1 1         0.000000  0.000000  0.000000  0.000000  0.000000  \n",
       "             2         0.000000  0.000000  0.000000  0.000000  0.000000  "
      ]
     },
     "execution_count": 102,
     "metadata": {},
     "output_type": "execute_result"
    }
   ],
   "source": []
  },
  {
   "cell_type": "code",
   "execution_count": 103,
   "metadata": {},
   "outputs": [
    {
     "data": {
      "text/plain": [
       "0     LGBMClassifier(learning_rate=0.03, max_depth=3...\n",
       "1     LGBMClassifier(learning_rate=0.03, max_depth=3...\n",
       "2     LGBMClassifier(learning_rate=0.03, max_depth=3...\n",
       "3     LGBMClassifier(learning_rate=0.03, max_depth=3...\n",
       "4     LGBMClassifier(learning_rate=0.03, max_depth=3...\n",
       "5     LGBMClassifier(learning_rate=0.03, max_depth=3...\n",
       "6     LGBMClassifier(learning_rate=0.03, max_depth=3...\n",
       "7     LGBMClassifier(learning_rate=0.03, max_depth=3...\n",
       "8     LGBMClassifier(learning_rate=0.03, max_depth=3...\n",
       "9     LGBMClassifier(learning_rate=0.03, max_depth=3...\n",
       "10    LGBMClassifier(learning_rate=0.03, max_depth=3...\n",
       "11    LGBMClassifier(learning_rate=0.03, max_depth=3...\n",
       "12    LGBMClassifier(learning_rate=0.03, max_depth=3...\n",
       "13    LGBMClassifier(learning_rate=0.03, max_depth=3...\n",
       "14    LGBMClassifier(learning_rate=0.03, max_depth=3...\n",
       "15    LGBMClassifier(learning_rate=0.03, max_depth=3...\n",
       "16    LGBMClassifier(learning_rate=0.03, max_depth=3...\n",
       "17    LGBMClassifier(learning_rate=0.03, max_depth=3...\n",
       "18    LGBMClassifier(learning_rate=0.03, max_depth=3...\n",
       "19    LGBMClassifier(learning_rate=0.03, max_depth=3...\n",
       "dtype: object"
      ]
     },
     "execution_count": 103,
     "metadata": {},
     "output_type": "execute_result"
    }
   ],
   "source": []
  },
  {
   "cell_type": "code",
   "execution_count": 105,
   "metadata": {},
   "outputs": [],
   "source": [
    "predictors = exp_gradient_est.predictors_.tolist()"
   ]
  },
  {
   "cell_type": "code",
   "execution_count": 107,
   "metadata": {},
   "outputs": [],
   "source": [
    "pred_0 = predictors[0]"
   ]
  },
  {
   "cell_type": "code",
   "execution_count": 109,
   "metadata": {},
   "outputs": [
    {
     "data": {
      "text/plain": [
       "['_Booster',\n",
       " '__class__',\n",
       " '__delattr__',\n",
       " '__dict__',\n",
       " '__dir__',\n",
       " '__doc__',\n",
       " '__eq__',\n",
       " '__format__',\n",
       " '__ge__',\n",
       " '__getattribute__',\n",
       " '__getstate__',\n",
       " '__gt__',\n",
       " '__hash__',\n",
       " '__init__',\n",
       " '__init_subclass__',\n",
       " '__le__',\n",
       " '__lt__',\n",
       " '__module__',\n",
       " '__ne__',\n",
       " '__new__',\n",
       " '__reduce__',\n",
       " '__reduce_ex__',\n",
       " '__repr__',\n",
       " '__setattr__',\n",
       " '__setstate__',\n",
       " '__sizeof__',\n",
       " '__str__',\n",
       " '__subclasshook__',\n",
       " '__weakref__',\n",
       " '_base_doc',\n",
       " '_best_iteration',\n",
       " '_best_score',\n",
       " '_check_n_features',\n",
       " '_class_map',\n",
       " '_class_weight',\n",
       " '_classes',\n",
       " '_estimator_type',\n",
       " '_evals_result',\n",
       " '_fobj',\n",
       " '_get_param_names',\n",
       " '_get_tags',\n",
       " '_le',\n",
       " '_more_tags',\n",
       " '_n_classes',\n",
       " '_n_features',\n",
       " '_n_features_in',\n",
       " '_objective',\n",
       " '_other_params',\n",
       " '_repr_html_',\n",
       " '_repr_html_inner',\n",
       " '_repr_mimebundle_',\n",
       " '_validate_data',\n",
       " 'best_iteration_',\n",
       " 'best_score_',\n",
       " 'booster_',\n",
       " 'boosting_type',\n",
       " 'class_weight',\n",
       " 'classes_',\n",
       " 'colsample_bytree',\n",
       " 'evals_result_',\n",
       " 'feature_importances_',\n",
       " 'feature_name_',\n",
       " 'fit',\n",
       " 'fitted_',\n",
       " 'get_params',\n",
       " 'importance_type',\n",
       " 'learning_rate',\n",
       " 'max_depth',\n",
       " 'metric',\n",
       " 'min_child_samples',\n",
       " 'min_child_weight',\n",
       " 'min_split_gain',\n",
       " 'n_classes_',\n",
       " 'n_estimators',\n",
       " 'n_features_',\n",
       " 'n_features_in_',\n",
       " 'n_jobs',\n",
       " 'num_leaves',\n",
       " 'objective',\n",
       " 'objective_',\n",
       " 'predict',\n",
       " 'predict_proba',\n",
       " 'random_state',\n",
       " 'reg_alpha',\n",
       " 'reg_lambda',\n",
       " 'score',\n",
       " 'set_params',\n",
       " 'silent',\n",
       " 'subsample',\n",
       " 'subsample_for_bin',\n",
       " 'subsample_freq']"
      ]
     },
     "execution_count": 109,
     "metadata": {},
     "output_type": "execute_result"
    }
   ],
   "source": []
  },
  {
   "cell_type": "code",
   "execution_count": null,
   "metadata": {},
   "outputs": [],
   "source": [
    "# Pass Lambda_vecs as Grid_offset to Grid_search\n",
    "# Do a couple of Exponentiated Gradient, and combine the predictors (Boosting?)\n",
    "# Just run Exp_Gradient with different trade-off points -> Each classifier staddles a variety of trade-offs -> Pick one of these 19 classifiers\n",
    "# Plot the GridSearch graph with these 19 classifiers"
   ]
  },
  {
   "cell_type": "markdown",
   "metadata": {},
   "source": [
    "### Feature Importance of GridSearch Model"
   ]
  },
  {
   "cell_type": "markdown",
   "metadata": {},
   "source": [
    "### Performance Plots of GridSearch Model (from EY case study)"
   ]
  },
  {
   "cell_type": "code",
   "execution_count": null,
   "metadata": {},
   "outputs": [],
   "source": []
  },
  {
   "cell_type": "markdown",
   "metadata": {},
   "source": [
    "### Discuss Performance and Trade-Offs"
   ]
  },
  {
   "cell_type": "markdown",
   "metadata": {},
   "source": [
    "# Designing a Model Card (Stretch Goal)\n",
    "- Capture reasoning, and link to Model Card resource if don't have time"
   ]
  },
  {
   "cell_type": "code",
   "execution_count": 7,
   "metadata": {},
   "outputs": [],
   "source": [
    "import model_card_toolkit"
   ]
  },
  {
   "cell_type": "code",
   "execution_count": 12,
   "metadata": {},
   "outputs": [],
   "source": [
    "model_card_path = Path(os.getcwd())\n",
    "mct = model_card_toolkit.ModelCardToolkit(model_card_path)"
   ]
  },
  {
   "cell_type": "code",
   "execution_count": 13,
   "metadata": {},
   "outputs": [],
   "source": [
    "model_card = mct.scaffold_assets()"
   ]
  },
  {
   "cell_type": "code",
   "execution_count": null,
   "metadata": {},
   "outputs": [],
   "source": [
    "model_card.model_details.name = \"Credit Loan Default Model\"\n",
    "model_card.model_details.overview = \"This model predicts whether an applicant will default on a credit loan\"\n",
    "model_card.model_details.users = [\"Financial Institutions\", \"Data Scientists\"]\n",
    "model_card.model_details.ethical_concerns = [\n",
    " {\n",
    "     \n",
    " }   \n",
    "]"
   ]
  },
  {
   "cell_type": "code",
   "execution_count": null,
   "metadata": {},
   "outputs": [],
   "source": []
  },
  {
   "cell_type": "code",
   "execution_count": null,
   "metadata": {},
   "outputs": [],
   "source": []
  },
  {
   "cell_type": "code",
   "execution_count": null,
   "metadata": {},
   "outputs": [],
   "source": []
  },
  {
   "cell_type": "code",
   "execution_count": null,
   "metadata": {},
   "outputs": [],
   "source": []
  },
  {
   "cell_type": "markdown",
   "metadata": {},
   "source": [
    "## Discussion"
   ]
  },
  {
   "cell_type": "markdown",
   "metadata": {},
   "source": [
    "### Fairness Under Unawareness"
   ]
  },
  {
   "cell_type": "markdown",
   "metadata": {},
   "source": [
    "- Get something done by March 8th, don't let this be a big deal!\n",
    "    - Lower priority"
   ]
  },
  {
   "cell_type": "markdown",
   "metadata": {},
   "source": [
    "### Fairness is not the same as anti-discrimination"
   ]
  },
  {
   "cell_type": "code",
   "execution_count": null,
   "metadata": {},
   "outputs": [],
   "source": []
  }
 ],
 "metadata": {
  "kernelspec": {
   "display_name": "Python 3",
   "language": "python",
   "name": "python3"
  },
  "language_info": {
   "codemirror_mode": {
    "name": "ipython",
    "version": 3
   },
   "file_extension": ".py",
   "mimetype": "text/x-python",
   "name": "python",
   "nbconvert_exporter": "python",
   "pygments_lexer": "ipython3",
   "version": "3.8.5"
  }
 },
 "nbformat": 4,
 "nbformat_minor": 4
}
